{
 "cells": [
  {
   "cell_type": "code",
   "execution_count": 41,
   "id": "f79bfbb7",
   "metadata": {},
   "outputs": [],
   "source": [
    "import os\n",
    "import pandas as pd\n",
    "import numpy as np\n",
    "\n",
    "import random\n",
    "\n",
    "import matplotlib.pyplot as plt\n",
    "import seaborn as sns\n",
    "# sns.set_palette(\"colorblind\")\n",
    "sns.set(rc={'figure.figsize':(7, 7)})\n",
    "\n",
    "pd.set_option('display.max_columns', None)\n",
    "pd.set_option(\"display.float_format\", lambda x: f'{x:.2f}')\n",
    "\n",
    "import warnings\n",
    "warnings.filterwarnings(\"ignore\")"
   ]
  },
  {
   "cell_type": "code",
   "execution_count": 2,
   "id": "1f6187a4",
   "metadata": {},
   "outputs": [],
   "source": [
    "def std_col_names(df):\n",
    "    \"\"\"\n",
    "    - Convert feature names to lower case\n",
    "    \"\"\"\n",
    "    df.columns = df.columns.str.lower().str.strip().str.replace(' ', '_')\n",
    "    return df\n"
   ]
  },
  {
   "cell_type": "code",
   "execution_count": 3,
   "id": "31e21fd6",
   "metadata": {},
   "outputs": [
    {
     "data": {
      "text/plain": [
       "['sample_submission.csv', 'train.csv', 'test.csv']"
      ]
     },
     "execution_count": 3,
     "metadata": {},
     "output_type": "execute_result"
    }
   ],
   "source": [
    "os.listdir('./data/')"
   ]
  },
  {
   "cell_type": "code",
   "execution_count": 4,
   "id": "f119d5a8",
   "metadata": {},
   "outputs": [
    {
     "data": {
      "text/html": [
       "<div>\n",
       "<style scoped>\n",
       "    .dataframe tbody tr th:only-of-type {\n",
       "        vertical-align: middle;\n",
       "    }\n",
       "\n",
       "    .dataframe tbody tr th {\n",
       "        vertical-align: top;\n",
       "    }\n",
       "\n",
       "    .dataframe thead th {\n",
       "        text-align: right;\n",
       "    }\n",
       "</style>\n",
       "<table border=\"1\" class=\"dataframe\">\n",
       "  <thead>\n",
       "    <tr style=\"text-align: right;\">\n",
       "      <th></th>\n",
       "      <th>instance_id</th>\n",
       "      <th>track_name</th>\n",
       "      <th>popularity</th>\n",
       "      <th>acousticness</th>\n",
       "      <th>danceability</th>\n",
       "      <th>duration_ms</th>\n",
       "      <th>energy</th>\n",
       "      <th>instrumentalness</th>\n",
       "      <th>key</th>\n",
       "      <th>liveness</th>\n",
       "      <th>loudness</th>\n",
       "      <th>voice_gender</th>\n",
       "      <th>mode</th>\n",
       "      <th>speechiness</th>\n",
       "      <th>tempo</th>\n",
       "      <th>musician_category</th>\n",
       "      <th>valence</th>\n",
       "      <th>music_genre</th>\n",
       "    </tr>\n",
       "  </thead>\n",
       "  <tbody>\n",
       "    <tr>\n",
       "      <th>0</th>\n",
       "      <td>MSC_83537.0</td>\n",
       "      <td>Estrellitas y Duendes</td>\n",
       "      <td>49.18</td>\n",
       "      <td>0.97</td>\n",
       "      <td>0.58</td>\n",
       "      <td>214625.78</td>\n",
       "      <td>0.19</td>\n",
       "      <td>0.00</td>\n",
       "      <td>Scale E</td>\n",
       "      <td>0.15</td>\n",
       "      <td>-14.14</td>\n",
       "      <td>NaN</td>\n",
       "      <td>Major</td>\n",
       "      <td>0.05</td>\n",
       "      <td>143.78799999999998</td>\n",
       "      <td>Band</td>\n",
       "      <td>0.60</td>\n",
       "      <td>Jazz</td>\n",
       "    </tr>\n",
       "    <tr>\n",
       "      <th>1</th>\n",
       "      <td>MSC_22044.0</td>\n",
       "      <td>Al Norte</td>\n",
       "      <td>59.83</td>\n",
       "      <td>1.01</td>\n",
       "      <td>0.69</td>\n",
       "      <td>216232.20</td>\n",
       "      <td>0.27</td>\n",
       "      <td>0.00</td>\n",
       "      <td>Scale A</td>\n",
       "      <td>0.17</td>\n",
       "      <td>-13.72</td>\n",
       "      <td>Male</td>\n",
       "      <td>?</td>\n",
       "      <td>0.04</td>\n",
       "      <td>?</td>\n",
       "      <td>Band</td>\n",
       "      <td>0.36</td>\n",
       "      <td>Jazz</td>\n",
       "    </tr>\n",
       "    <tr>\n",
       "      <th>2</th>\n",
       "      <td>MSC_62017.0</td>\n",
       "      <td>Yeah! (feat. Lil Jon &amp; Ludacris)</td>\n",
       "      <td>89.02</td>\n",
       "      <td>0.02</td>\n",
       "      <td>0.97</td>\n",
       "      <td>273314.72</td>\n",
       "      <td>0.86</td>\n",
       "      <td>0.00</td>\n",
       "      <td>Scale D</td>\n",
       "      <td>0.04</td>\n",
       "      <td>-5.00</td>\n",
       "      <td>Female</td>\n",
       "      <td>Major</td>\n",
       "      <td>0.12</td>\n",
       "      <td>105.01799999999999</td>\n",
       "      <td>Band</td>\n",
       "      <td>0.64</td>\n",
       "      <td>Rap</td>\n",
       "    </tr>\n",
       "    <tr>\n",
       "      <th>3</th>\n",
       "      <td>MSC_76365.0</td>\n",
       "      <td>Can’t You See</td>\n",
       "      <td>55.76</td>\n",
       "      <td>0.01</td>\n",
       "      <td>0.62</td>\n",
       "      <td>189189.61</td>\n",
       "      <td>0.97</td>\n",
       "      <td>0.00</td>\n",
       "      <td>Scale D</td>\n",
       "      <td>0.12</td>\n",
       "      <td>-4.26</td>\n",
       "      <td>Both</td>\n",
       "      <td>Major</td>\n",
       "      <td>0.17</td>\n",
       "      <td>?</td>\n",
       "      <td>Duet</td>\n",
       "      <td>0.98</td>\n",
       "      <td>Rock</td>\n",
       "    </tr>\n",
       "    <tr>\n",
       "      <th>4</th>\n",
       "      <td>MSC_71493.0</td>\n",
       "      <td>Sonata III (G Moll), BWV 1029: Adagio</td>\n",
       "      <td>45.09</td>\n",
       "      <td>0.86</td>\n",
       "      <td>0.28</td>\n",
       "      <td>410136.99</td>\n",
       "      <td>0.11</td>\n",
       "      <td>0.00</td>\n",
       "      <td>Scale F Sharp</td>\n",
       "      <td>0.13</td>\n",
       "      <td>-26.92</td>\n",
       "      <td>Female</td>\n",
       "      <td>Minor</td>\n",
       "      <td>0.04</td>\n",
       "      <td>112.18299999999999</td>\n",
       "      <td>Band</td>\n",
       "      <td>0.07</td>\n",
       "      <td>Classical</td>\n",
       "    </tr>\n",
       "  </tbody>\n",
       "</table>\n",
       "</div>"
      ],
      "text/plain": [
       "   instance_id                             track_name  popularity  \\\n",
       "0  MSC_83537.0                  Estrellitas y Duendes       49.18   \n",
       "1  MSC_22044.0                               Al Norte       59.83   \n",
       "2  MSC_62017.0       Yeah! (feat. Lil Jon & Ludacris)       89.02   \n",
       "3  MSC_76365.0                          Can’t You See       55.76   \n",
       "4  MSC_71493.0  Sonata III (G Moll), BWV 1029: Adagio       45.09   \n",
       "\n",
       "   acousticness  danceability  duration_ms  energy  instrumentalness  \\\n",
       "0          0.97          0.58    214625.78    0.19              0.00   \n",
       "1          1.01          0.69    216232.20    0.27              0.00   \n",
       "2          0.02          0.97    273314.72    0.86              0.00   \n",
       "3          0.01          0.62    189189.61    0.97              0.00   \n",
       "4          0.86          0.28    410136.99    0.11              0.00   \n",
       "\n",
       "             key  liveness  loudness voice_gender   mode  speechiness  \\\n",
       "0        Scale E      0.15    -14.14          NaN  Major         0.05   \n",
       "1        Scale A      0.17    -13.72         Male      ?         0.04   \n",
       "2        Scale D      0.04     -5.00       Female  Major         0.12   \n",
       "3        Scale D      0.12     -4.26         Both  Major         0.17   \n",
       "4  Scale F Sharp      0.13    -26.92       Female  Minor         0.04   \n",
       "\n",
       "                tempo musician_category  valence music_genre  \n",
       "0  143.78799999999998              Band     0.60        Jazz  \n",
       "1                   ?              Band     0.36        Jazz  \n",
       "2  105.01799999999999              Band     0.64         Rap  \n",
       "3                   ?              Duet     0.98        Rock  \n",
       "4  112.18299999999999              Band     0.07   Classical  "
      ]
     },
     "execution_count": 4,
     "metadata": {},
     "output_type": "execute_result"
    }
   ],
   "source": [
    "# Load DF\n",
    "train_df = std_col_names(pd.read_csv('./data/train.csv'))\n",
    "df = train_df.copy()\n",
    "df.head(5)"
   ]
  },
  {
   "cell_type": "code",
   "execution_count": 5,
   "id": "eec8ff7f",
   "metadata": {},
   "outputs": [
    {
     "name": "stdout",
     "output_type": "stream",
     "text": [
      "<class 'pandas.core.frame.DataFrame'>\n",
      "RangeIndex: 15681 entries, 0 to 15680\n",
      "Data columns (total 18 columns):\n",
      " #   Column             Non-Null Count  Dtype  \n",
      "---  ------             --------------  -----  \n",
      " 0   instance_id        15681 non-null  object \n",
      " 1   track_name         15681 non-null  object \n",
      " 2   popularity         15039 non-null  float64\n",
      " 3   acousticness       15681 non-null  float64\n",
      " 4   danceability       15125 non-null  float64\n",
      " 5   duration_ms        15587 non-null  float64\n",
      " 6   energy             15587 non-null  float64\n",
      " 7   instrumentalness   15586 non-null  float64\n",
      " 8   key                15681 non-null  object \n",
      " 9   liveness           15681 non-null  float64\n",
      " 10  loudness           15645 non-null  float64\n",
      " 11  voice_gender       14916 non-null  object \n",
      " 12  mode               15646 non-null  object \n",
      " 13  speechiness        15655 non-null  float64\n",
      " 14  tempo              15681 non-null  object \n",
      " 15  musician_category  14321 non-null  object \n",
      " 16  valence            15004 non-null  float64\n",
      " 17  music_genre        15681 non-null  object \n",
      "dtypes: float64(10), object(8)\n",
      "memory usage: 2.2+ MB\n"
     ]
    }
   ],
   "source": [
    "# Observe missing data and feature types\n",
    "df.info()"
   ]
  },
  {
   "cell_type": "code",
   "execution_count": 6,
   "id": "21f1e00d",
   "metadata": {},
   "outputs": [
    {
     "name": "stdout",
     "output_type": "stream",
     "text": [
      "Features with missing values: \n"
     ]
    },
    {
     "data": {
      "text/plain": [
       "['popularity',\n",
       " 'danceability',\n",
       " 'duration_ms',\n",
       " 'energy',\n",
       " 'instrumentalness',\n",
       " 'loudness',\n",
       " 'voice_gender',\n",
       " 'mode',\n",
       " 'speechiness',\n",
       " 'musician_category',\n",
       " 'valence']"
      ]
     },
     "execution_count": 6,
     "metadata": {},
     "output_type": "execute_result"
    }
   ],
   "source": [
    "# Find out missing column names\n",
    "missing_cols = df.columns[df.isnull().any()].to_list()\n",
    "print('Features with missing values: ')\n",
    "missing_cols"
   ]
  },
  {
   "cell_type": "code",
   "execution_count": 7,
   "id": "e082661a",
   "metadata": {},
   "outputs": [
    {
     "name": "stdout",
     "output_type": "stream",
     "text": [
      "Number of missing values for each feature in descending order: \n"
     ]
    },
    {
     "data": {
      "text/plain": [
       "popularity            642\n",
       "danceability          556\n",
       "duration_ms            94\n",
       "energy                 94\n",
       "instrumentalness       95\n",
       "loudness               36\n",
       "voice_gender          765\n",
       "mode                   35\n",
       "speechiness            26\n",
       "musician_category    1360\n",
       "valence               677\n",
       "dtype: int64"
      ]
     },
     "execution_count": 7,
     "metadata": {},
     "output_type": "execute_result"
    }
   ],
   "source": [
    "# Evaluate count of missing values\n",
    "missing_cols_count = df[missing_cols].isnull().sum()\n",
    "print('Number of missing values for each feature in descending order: ')\n",
    "(missing_cols_count)#.sort_values(ascending= False)"
   ]
  },
  {
   "cell_type": "code",
   "execution_count": 8,
   "id": "f237ed2c",
   "metadata": {},
   "outputs": [
    {
     "name": "stdout",
     "output_type": "stream",
     "text": [
      "Descriptive stats of numerical features: \n"
     ]
    },
    {
     "data": {
      "text/html": [
       "<div>\n",
       "<style scoped>\n",
       "    .dataframe tbody tr th:only-of-type {\n",
       "        vertical-align: middle;\n",
       "    }\n",
       "\n",
       "    .dataframe tbody tr th {\n",
       "        vertical-align: top;\n",
       "    }\n",
       "\n",
       "    .dataframe thead th {\n",
       "        text-align: right;\n",
       "    }\n",
       "</style>\n",
       "<table border=\"1\" class=\"dataframe\">\n",
       "  <thead>\n",
       "    <tr style=\"text-align: right;\">\n",
       "      <th></th>\n",
       "      <th>popularity</th>\n",
       "      <th>acousticness</th>\n",
       "      <th>danceability</th>\n",
       "      <th>duration_ms</th>\n",
       "      <th>energy</th>\n",
       "      <th>instrumentalness</th>\n",
       "      <th>liveness</th>\n",
       "      <th>loudness</th>\n",
       "      <th>speechiness</th>\n",
       "      <th>valence</th>\n",
       "    </tr>\n",
       "  </thead>\n",
       "  <tbody>\n",
       "    <tr>\n",
       "      <th>min</th>\n",
       "      <td>0.00</td>\n",
       "      <td>0.00</td>\n",
       "      <td>0.06</td>\n",
       "      <td>-1.00</td>\n",
       "      <td>-1.00</td>\n",
       "      <td>0.00</td>\n",
       "      <td>0.02</td>\n",
       "      <td>-50.05</td>\n",
       "      <td>0.02</td>\n",
       "      <td>0.00</td>\n",
       "    </tr>\n",
       "    <tr>\n",
       "      <th>max</th>\n",
       "      <td>108.51</td>\n",
       "      <td>1.09</td>\n",
       "      <td>1.07</td>\n",
       "      <td>3410383.32</td>\n",
       "      <td>1.09</td>\n",
       "      <td>1.08</td>\n",
       "      <td>1.08</td>\n",
       "      <td>1.39</td>\n",
       "      <td>1.00</td>\n",
       "      <td>1.08</td>\n",
       "    </tr>\n",
       "    <tr>\n",
       "      <th>mean</th>\n",
       "      <td>50.82</td>\n",
       "      <td>0.45</td>\n",
       "      <td>0.57</td>\n",
       "      <td>248000.81</td>\n",
       "      <td>0.43</td>\n",
       "      <td>0.26</td>\n",
       "      <td>0.19</td>\n",
       "      <td>-11.62</td>\n",
       "      <td>0.10</td>\n",
       "      <td>0.45</td>\n",
       "    </tr>\n",
       "    <tr>\n",
       "      <th>50%</th>\n",
       "      <td>54.11</td>\n",
       "      <td>0.30</td>\n",
       "      <td>0.59</td>\n",
       "      <td>236212.74</td>\n",
       "      <td>0.56</td>\n",
       "      <td>0.00</td>\n",
       "      <td>0.13</td>\n",
       "      <td>-8.61</td>\n",
       "      <td>0.05</td>\n",
       "      <td>0.43</td>\n",
       "    </tr>\n",
       "  </tbody>\n",
       "</table>\n",
       "</div>"
      ],
      "text/plain": [
       "      popularity  acousticness  danceability  duration_ms  energy  \\\n",
       "min         0.00          0.00          0.06        -1.00   -1.00   \n",
       "max       108.51          1.09          1.07   3410383.32    1.09   \n",
       "mean       50.82          0.45          0.57    248000.81    0.43   \n",
       "50%        54.11          0.30          0.59    236212.74    0.56   \n",
       "\n",
       "      instrumentalness  liveness  loudness  speechiness  valence  \n",
       "min               0.00      0.02    -50.05         0.02     0.00  \n",
       "max               1.08      1.08      1.39         1.00     1.08  \n",
       "mean              0.26      0.19    -11.62         0.10     0.45  \n",
       "50%               0.00      0.13     -8.61         0.05     0.43  "
      ]
     },
     "execution_count": 8,
     "metadata": {},
     "output_type": "execute_result"
    }
   ],
   "source": [
    "# View data distributions\n",
    "print('Descriptive stats of numerical features: ')\n",
    "df.describe().loc[['min', 'max', 'mean', '50%']]"
   ]
  },
  {
   "cell_type": "code",
   "execution_count": 9,
   "id": "ebda9ceb",
   "metadata": {},
   "outputs": [
    {
     "name": "stdout",
     "output_type": "stream",
     "text": [
      "Descriptive stats of numerical features: \n"
     ]
    },
    {
     "data": {
      "text/html": [
       "<div>\n",
       "<style scoped>\n",
       "    .dataframe tbody tr th:only-of-type {\n",
       "        vertical-align: middle;\n",
       "    }\n",
       "\n",
       "    .dataframe tbody tr th {\n",
       "        vertical-align: top;\n",
       "    }\n",
       "\n",
       "    .dataframe thead th {\n",
       "        text-align: right;\n",
       "    }\n",
       "</style>\n",
       "<table border=\"1\" class=\"dataframe\">\n",
       "  <thead>\n",
       "    <tr style=\"text-align: right;\">\n",
       "      <th></th>\n",
       "      <th>instance_id</th>\n",
       "      <th>track_name</th>\n",
       "      <th>key</th>\n",
       "      <th>voice_gender</th>\n",
       "      <th>mode</th>\n",
       "      <th>tempo</th>\n",
       "      <th>musician_category</th>\n",
       "      <th>music_genre</th>\n",
       "    </tr>\n",
       "  </thead>\n",
       "  <tbody>\n",
       "    <tr>\n",
       "      <th>count</th>\n",
       "      <td>15681</td>\n",
       "      <td>15681</td>\n",
       "      <td>15681</td>\n",
       "      <td>14916</td>\n",
       "      <td>15646</td>\n",
       "      <td>15681</td>\n",
       "      <td>14321</td>\n",
       "      <td>15681</td>\n",
       "    </tr>\n",
       "    <tr>\n",
       "      <th>unique</th>\n",
       "      <td>15681</td>\n",
       "      <td>14799</td>\n",
       "      <td>12</td>\n",
       "      <td>3</td>\n",
       "      <td>3</td>\n",
       "      <td>12332</td>\n",
       "      <td>3</td>\n",
       "      <td>7</td>\n",
       "    </tr>\n",
       "    <tr>\n",
       "      <th>top</th>\n",
       "      <td>MSC_83537.0</td>\n",
       "      <td>Smile</td>\n",
       "      <td>Scale C</td>\n",
       "      <td>Female</td>\n",
       "      <td>Major</td>\n",
       "      <td>?</td>\n",
       "      <td>Band</td>\n",
       "      <td>Classical</td>\n",
       "    </tr>\n",
       "    <tr>\n",
       "      <th>freq</th>\n",
       "      <td>1</td>\n",
       "      <td>7</td>\n",
       "      <td>1771</td>\n",
       "      <td>5050</td>\n",
       "      <td>9210</td>\n",
       "      <td>1476</td>\n",
       "      <td>4843</td>\n",
       "      <td>3990</td>\n",
       "    </tr>\n",
       "  </tbody>\n",
       "</table>\n",
       "</div>"
      ],
      "text/plain": [
       "        instance_id track_name      key voice_gender   mode  tempo  \\\n",
       "count         15681      15681    15681        14916  15646  15681   \n",
       "unique        15681      14799       12            3      3  12332   \n",
       "top     MSC_83537.0      Smile  Scale C       Female  Major      ?   \n",
       "freq              1          7     1771         5050   9210   1476   \n",
       "\n",
       "       musician_category music_genre  \n",
       "count              14321       15681  \n",
       "unique                 3           7  \n",
       "top                 Band   Classical  \n",
       "freq                4843        3990  "
      ]
     },
     "execution_count": 9,
     "metadata": {},
     "output_type": "execute_result"
    }
   ],
   "source": [
    "# View data distributions\n",
    "print('Descriptive stats of numerical features: ')\n",
    "df.describe(include= 'object')"
   ]
  },
  {
   "cell_type": "code",
   "execution_count": 10,
   "id": "90ab04e4",
   "metadata": {},
   "outputs": [
    {
     "name": "stdout",
     "output_type": "stream",
     "text": [
      "Unique values in each feature: \n"
     ]
    },
    {
     "data": {
      "text/plain": [
       "instance_id          15681\n",
       "track_name           14799\n",
       "popularity           12743\n",
       "acousticness         15681\n",
       "danceability         15125\n",
       "duration_ms          14011\n",
       "energy               14371\n",
       "instrumentalness     11219\n",
       "key                     12\n",
       "liveness             15681\n",
       "loudness             10473\n",
       "voice_gender             3\n",
       "mode                     3\n",
       "speechiness          15655\n",
       "tempo                12332\n",
       "musician_category        3\n",
       "valence              15004\n",
       "music_genre              7\n",
       "dtype: int64"
      ]
     },
     "execution_count": 10,
     "metadata": {},
     "output_type": "execute_result"
    }
   ],
   "source": [
    "print('Unique values in each feature: ')\n",
    "df.nunique()"
   ]
  },
  {
   "cell_type": "code",
   "execution_count": 11,
   "id": "e16b6239",
   "metadata": {},
   "outputs": [
    {
     "name": "stdout",
     "output_type": "stream",
     "text": [
      "Unique music_genres: \n",
      "Classical     3990\n",
      "Rock          3879\n",
      "Rap           3207\n",
      "Jazz          2850\n",
      "Country        683\n",
      "Electronic     614\n",
      "Hip-Hop        458\n",
      "Name: music_genre, dtype: int64\n"
     ]
    }
   ],
   "source": [
    "print('Unique music_genres: ')\n",
    "print(df['music_genre'].value_counts())"
   ]
  },
  {
   "cell_type": "code",
   "execution_count": 12,
   "id": "a3486e65",
   "metadata": {},
   "outputs": [
    {
     "name": "stdout",
     "output_type": "stream",
     "text": [
      "Number of records with duration= -1 :\n",
      "1577\n",
      "Number of records with duration= np.nan :\n",
      "94\n"
     ]
    }
   ],
   "source": [
    "print(f'Number of records with duration= -1 :')\n",
    "print(df[df['duration_ms']==-1].shape[0])\n",
    "\n",
    "print(f'Number of records with duration= np.nan :')\n",
    "print(df['duration_ms'].isna().sum())"
   ]
  },
  {
   "cell_type": "code",
   "execution_count": 13,
   "id": "91ccaff0",
   "metadata": {},
   "outputs": [
    {
     "name": "stdout",
     "output_type": "stream",
     "text": [
      "Number of records with energy= -1 :\n",
      "1217\n",
      "Number of records with duration= np.nan :\n",
      "94\n"
     ]
    }
   ],
   "source": [
    "print(f'Number of records with energy= -1 :')\n",
    "print(df[df['energy']==-1].shape[0])\n",
    "\n",
    "print(f'Number of records with duration= np.nan :')\n",
    "print(df['energy'].isna().sum())"
   ]
  },
  {
   "cell_type": "code",
   "execution_count": 14,
   "id": "a9fd84d7",
   "metadata": {},
   "outputs": [
    {
     "name": "stdout",
     "output_type": "stream",
     "text": [
      "Loudness value count greater than 0: \n",
      "7\n"
     ]
    }
   ],
   "source": [
    "print('Loudness value count greater than 0: ')\n",
    "print(df[df['loudness']>=0].shape[0])"
   ]
  },
  {
   "cell_type": "code",
   "execution_count": 15,
   "id": "02e7deec",
   "metadata": {},
   "outputs": [
    {
     "data": {
      "text/html": [
       "<div>\n",
       "<style scoped>\n",
       "    .dataframe tbody tr th:only-of-type {\n",
       "        vertical-align: middle;\n",
       "    }\n",
       "\n",
       "    .dataframe tbody tr th {\n",
       "        vertical-align: top;\n",
       "    }\n",
       "\n",
       "    .dataframe thead th {\n",
       "        text-align: right;\n",
       "    }\n",
       "</style>\n",
       "<table border=\"1\" class=\"dataframe\">\n",
       "  <thead>\n",
       "    <tr style=\"text-align: right;\">\n",
       "      <th></th>\n",
       "      <th>instance_id</th>\n",
       "      <th>track_name</th>\n",
       "      <th>popularity</th>\n",
       "      <th>acousticness</th>\n",
       "      <th>danceability</th>\n",
       "      <th>duration_ms</th>\n",
       "      <th>energy</th>\n",
       "      <th>instrumentalness</th>\n",
       "      <th>key</th>\n",
       "      <th>liveness</th>\n",
       "      <th>loudness</th>\n",
       "      <th>voice_gender</th>\n",
       "      <th>mode</th>\n",
       "      <th>speechiness</th>\n",
       "      <th>tempo</th>\n",
       "      <th>musician_category</th>\n",
       "      <th>valence</th>\n",
       "      <th>music_genre</th>\n",
       "    </tr>\n",
       "  </thead>\n",
       "  <tbody>\n",
       "    <tr>\n",
       "      <th>0</th>\n",
       "      <td>MSC_83537.0</td>\n",
       "      <td>Estrellitas y Duendes</td>\n",
       "      <td>49.18</td>\n",
       "      <td>0.97</td>\n",
       "      <td>0.58</td>\n",
       "      <td>214625.78</td>\n",
       "      <td>0.19</td>\n",
       "      <td>0.00</td>\n",
       "      <td>Scale E</td>\n",
       "      <td>0.15</td>\n",
       "      <td>-14.14</td>\n",
       "      <td>NaN</td>\n",
       "      <td>Major</td>\n",
       "      <td>0.05</td>\n",
       "      <td>143.78799999999998</td>\n",
       "      <td>Band</td>\n",
       "      <td>0.60</td>\n",
       "      <td>Jazz</td>\n",
       "    </tr>\n",
       "    <tr>\n",
       "      <th>1</th>\n",
       "      <td>MSC_22044.0</td>\n",
       "      <td>Al Norte</td>\n",
       "      <td>59.83</td>\n",
       "      <td>1.01</td>\n",
       "      <td>0.69</td>\n",
       "      <td>216232.20</td>\n",
       "      <td>0.27</td>\n",
       "      <td>0.00</td>\n",
       "      <td>Scale A</td>\n",
       "      <td>0.17</td>\n",
       "      <td>-13.72</td>\n",
       "      <td>Male</td>\n",
       "      <td>?</td>\n",
       "      <td>0.04</td>\n",
       "      <td>?</td>\n",
       "      <td>Band</td>\n",
       "      <td>0.36</td>\n",
       "      <td>Jazz</td>\n",
       "    </tr>\n",
       "    <tr>\n",
       "      <th>2</th>\n",
       "      <td>MSC_62017.0</td>\n",
       "      <td>Yeah! (feat. Lil Jon &amp; Ludacris)</td>\n",
       "      <td>89.02</td>\n",
       "      <td>0.02</td>\n",
       "      <td>0.97</td>\n",
       "      <td>273314.72</td>\n",
       "      <td>0.86</td>\n",
       "      <td>0.00</td>\n",
       "      <td>Scale D</td>\n",
       "      <td>0.04</td>\n",
       "      <td>-5.00</td>\n",
       "      <td>Female</td>\n",
       "      <td>Major</td>\n",
       "      <td>0.12</td>\n",
       "      <td>105.01799999999999</td>\n",
       "      <td>Band</td>\n",
       "      <td>0.64</td>\n",
       "      <td>Rap</td>\n",
       "    </tr>\n",
       "    <tr>\n",
       "      <th>3</th>\n",
       "      <td>MSC_76365.0</td>\n",
       "      <td>Can’t You See</td>\n",
       "      <td>55.76</td>\n",
       "      <td>0.01</td>\n",
       "      <td>0.62</td>\n",
       "      <td>189189.61</td>\n",
       "      <td>0.97</td>\n",
       "      <td>0.00</td>\n",
       "      <td>Scale D</td>\n",
       "      <td>0.12</td>\n",
       "      <td>-4.26</td>\n",
       "      <td>Both</td>\n",
       "      <td>Major</td>\n",
       "      <td>0.17</td>\n",
       "      <td>?</td>\n",
       "      <td>Duet</td>\n",
       "      <td>0.98</td>\n",
       "      <td>Rock</td>\n",
       "    </tr>\n",
       "    <tr>\n",
       "      <th>4</th>\n",
       "      <td>MSC_71493.0</td>\n",
       "      <td>Sonata III (G Moll), BWV 1029: Adagio</td>\n",
       "      <td>45.09</td>\n",
       "      <td>0.86</td>\n",
       "      <td>0.28</td>\n",
       "      <td>410136.99</td>\n",
       "      <td>0.11</td>\n",
       "      <td>0.00</td>\n",
       "      <td>Scale F Sharp</td>\n",
       "      <td>0.13</td>\n",
       "      <td>-26.92</td>\n",
       "      <td>Female</td>\n",
       "      <td>Minor</td>\n",
       "      <td>0.04</td>\n",
       "      <td>112.18299999999999</td>\n",
       "      <td>Band</td>\n",
       "      <td>0.07</td>\n",
       "      <td>Classical</td>\n",
       "    </tr>\n",
       "  </tbody>\n",
       "</table>\n",
       "</div>"
      ],
      "text/plain": [
       "   instance_id                             track_name  popularity  \\\n",
       "0  MSC_83537.0                  Estrellitas y Duendes       49.18   \n",
       "1  MSC_22044.0                               Al Norte       59.83   \n",
       "2  MSC_62017.0       Yeah! (feat. Lil Jon & Ludacris)       89.02   \n",
       "3  MSC_76365.0                          Can’t You See       55.76   \n",
       "4  MSC_71493.0  Sonata III (G Moll), BWV 1029: Adagio       45.09   \n",
       "\n",
       "   acousticness  danceability  duration_ms  energy  instrumentalness  \\\n",
       "0          0.97          0.58    214625.78    0.19              0.00   \n",
       "1          1.01          0.69    216232.20    0.27              0.00   \n",
       "2          0.02          0.97    273314.72    0.86              0.00   \n",
       "3          0.01          0.62    189189.61    0.97              0.00   \n",
       "4          0.86          0.28    410136.99    0.11              0.00   \n",
       "\n",
       "             key  liveness  loudness voice_gender   mode  speechiness  \\\n",
       "0        Scale E      0.15    -14.14          NaN  Major         0.05   \n",
       "1        Scale A      0.17    -13.72         Male      ?         0.04   \n",
       "2        Scale D      0.04     -5.00       Female  Major         0.12   \n",
       "3        Scale D      0.12     -4.26         Both  Major         0.17   \n",
       "4  Scale F Sharp      0.13    -26.92       Female  Minor         0.04   \n",
       "\n",
       "                tempo musician_category  valence music_genre  \n",
       "0  143.78799999999998              Band     0.60        Jazz  \n",
       "1                   ?              Band     0.36        Jazz  \n",
       "2  105.01799999999999              Band     0.64         Rap  \n",
       "3                   ?              Duet     0.98        Rock  \n",
       "4  112.18299999999999              Band     0.07   Classical  "
      ]
     },
     "execution_count": 15,
     "metadata": {},
     "output_type": "execute_result"
    }
   ],
   "source": [
    "df.head()"
   ]
  },
  {
   "cell_type": "code",
   "execution_count": 16,
   "id": "3cf6ca86",
   "metadata": {},
   "outputs": [
    {
     "name": "stdout",
     "output_type": "stream",
     "text": [
      "Unqiue key values: \n",
      "['Scale E' 'Scale A' 'Scale D' 'Scale F Sharp' 'Scale G Sharp'\n",
      " 'Scale C Sharp' 'Scale A Sharp' 'Scale F' 'Scale G' 'Scale B' 'Scale C'\n",
      " 'Scale D Sharp']\n"
     ]
    }
   ],
   "source": [
    "print('Unqiue key values: ')\n",
    "print(df['key'].unique())"
   ]
  },
  {
   "cell_type": "code",
   "execution_count": 17,
   "id": "453416f7",
   "metadata": {},
   "outputs": [
    {
     "name": "stdout",
     "output_type": "stream",
     "text": [
      "Unique mode values: \n",
      "Major    9210\n",
      "Minor    5357\n",
      "?        1079\n",
      "Name: mode, dtype: int64\n"
     ]
    }
   ],
   "source": [
    "print('Unique mode values: ')\n",
    "print(df['mode'].value_counts())\n"
   ]
  },
  {
   "cell_type": "code",
   "execution_count": 18,
   "id": "1fbe4b03",
   "metadata": {},
   "outputs": [
    {
     "name": "stdout",
     "output_type": "stream",
     "text": [
      "Tempo records with `?`: \n",
      "1476\n"
     ]
    }
   ],
   "source": [
    "print('Tempo records with `?`: ')\n",
    "print(df[df['tempo']=='?'].shape[0])"
   ]
  },
  {
   "cell_type": "code",
   "execution_count": 19,
   "id": "1ccf4e5d",
   "metadata": {},
   "outputs": [
    {
     "data": {
      "text/plain": [
       "Classical     396\n",
       "Rock          328\n",
       "Rap           325\n",
       "Jazz          276\n",
       "Electronic     58\n",
       "Country        56\n",
       "Hip-Hop        37\n",
       "Name: music_genre, dtype: int64"
      ]
     },
     "execution_count": 19,
     "metadata": {},
     "output_type": "execute_result"
    }
   ],
   "source": [
    "df[df['tempo']=='?']['music_genre'].value_counts()"
   ]
  },
  {
   "cell_type": "code",
   "execution_count": 20,
   "id": "9a382bb2",
   "metadata": {},
   "outputs": [
    {
     "name": "stdout",
     "output_type": "stream",
     "text": [
      "Value counts of musician_category\n",
      "Band    4843\n",
      "Solo    4784\n",
      "Duet    4694\n",
      "Name: musician_category, dtype: int64\n"
     ]
    },
    {
     "data": {
      "text/html": [
       "<div>\n",
       "<style scoped>\n",
       "    .dataframe tbody tr th:only-of-type {\n",
       "        vertical-align: middle;\n",
       "    }\n",
       "\n",
       "    .dataframe tbody tr th {\n",
       "        vertical-align: top;\n",
       "    }\n",
       "\n",
       "    .dataframe thead th {\n",
       "        text-align: right;\n",
       "    }\n",
       "</style>\n",
       "<table border=\"1\" class=\"dataframe\">\n",
       "  <thead>\n",
       "    <tr style=\"text-align: right;\">\n",
       "      <th></th>\n",
       "      <th>track_name</th>\n",
       "      <th>musician_category</th>\n",
       "    </tr>\n",
       "  </thead>\n",
       "  <tbody>\n",
       "    <tr>\n",
       "      <th>0</th>\n",
       "      <td>Estrellitas y Duendes</td>\n",
       "      <td>Band</td>\n",
       "    </tr>\n",
       "    <tr>\n",
       "      <th>1</th>\n",
       "      <td>Al Norte</td>\n",
       "      <td>Band</td>\n",
       "    </tr>\n",
       "    <tr>\n",
       "      <th>2</th>\n",
       "      <td>Yeah! (feat. Lil Jon &amp; Ludacris)</td>\n",
       "      <td>Band</td>\n",
       "    </tr>\n",
       "    <tr>\n",
       "      <th>3</th>\n",
       "      <td>Can’t You See</td>\n",
       "      <td>Duet</td>\n",
       "    </tr>\n",
       "    <tr>\n",
       "      <th>4</th>\n",
       "      <td>Sonata III (G Moll), BWV 1029: Adagio</td>\n",
       "      <td>Band</td>\n",
       "    </tr>\n",
       "    <tr>\n",
       "      <th>...</th>\n",
       "      <td>...</td>\n",
       "      <td>...</td>\n",
       "    </tr>\n",
       "    <tr>\n",
       "      <th>15676</th>\n",
       "      <td>I. Andante</td>\n",
       "      <td>Band</td>\n",
       "    </tr>\n",
       "    <tr>\n",
       "      <th>15677</th>\n",
       "      <td>Only Trust Your Heart</td>\n",
       "      <td>Duet</td>\n",
       "    </tr>\n",
       "    <tr>\n",
       "      <th>15678</th>\n",
       "      <td>Moment's Notice</td>\n",
       "      <td>NaN</td>\n",
       "    </tr>\n",
       "    <tr>\n",
       "      <th>15679</th>\n",
       "      <td>Such Small Scenes</td>\n",
       "      <td>Duet</td>\n",
       "    </tr>\n",
       "    <tr>\n",
       "      <th>15680</th>\n",
       "      <td>Dogs of War</td>\n",
       "      <td>Solo</td>\n",
       "    </tr>\n",
       "  </tbody>\n",
       "</table>\n",
       "<p>15681 rows × 2 columns</p>\n",
       "</div>"
      ],
      "text/plain": [
       "                                  track_name musician_category\n",
       "0                      Estrellitas y Duendes              Band\n",
       "1                                   Al Norte              Band\n",
       "2           Yeah! (feat. Lil Jon & Ludacris)              Band\n",
       "3                              Can’t You See              Duet\n",
       "4      Sonata III (G Moll), BWV 1029: Adagio              Band\n",
       "...                                      ...               ...\n",
       "15676                             I. Andante              Band\n",
       "15677                  Only Trust Your Heart              Duet\n",
       "15678                        Moment's Notice               NaN\n",
       "15679                      Such Small Scenes              Duet\n",
       "15680                            Dogs of War              Solo\n",
       "\n",
       "[15681 rows x 2 columns]"
      ]
     },
     "execution_count": 20,
     "metadata": {},
     "output_type": "execute_result"
    }
   ],
   "source": [
    "print('Value counts of musician_category')\n",
    "print(df['musician_category'].value_counts())\n",
    "\n",
    "df[['track_name', 'musician_category']]"
   ]
  },
  {
   "cell_type": "code",
   "execution_count": 21,
   "id": "4e5e7a95",
   "metadata": {},
   "outputs": [
    {
     "data": {
      "text/plain": [
       "Index(['instance_id', 'track_name', 'popularity', 'acousticness',\n",
       "       'danceability', 'duration_ms', 'energy', 'instrumentalness', 'key',\n",
       "       'liveness', 'loudness', 'voice_gender', 'mode', 'speechiness', 'tempo',\n",
       "       'musician_category', 'valence', 'music_genre'],\n",
       "      dtype='object')"
      ]
     },
     "execution_count": 21,
     "metadata": {},
     "output_type": "execute_result"
    }
   ],
   "source": [
    "df.columns"
   ]
  },
  {
   "cell_type": "code",
   "execution_count": 22,
   "id": "bb39fbff",
   "metadata": {},
   "outputs": [],
   "source": [
    "df['tempo'].replace('?', np.nan, inplace= True)\n",
    "\n",
    "df['tempo'].fillna(0, inplace=True)\n",
    "df['tempo'] = df['tempo'].astype('float')"
   ]
  },
  {
   "cell_type": "code",
   "execution_count": 80,
   "id": "4d115a2d",
   "metadata": {},
   "outputs": [],
   "source": [
    "genre_mean = df[['danceability', 'energy', 'loudness', 'tempo', 'valence', 'music_genre']].groupby('music_genre').mean().reset_index()\n",
    "dance_dict = dict(zip(genre_mean['music_genre'], genre_mean['danceability']))"
   ]
  },
  {
   "cell_type": "code",
   "execution_count": 50,
   "id": "ce49b92b",
   "metadata": {},
   "outputs": [],
   "source": [
    "duration_mean = df['duration_ms'].mean()\n",
    "df['duration_ms'].fillna(duration_mean, inplace=True)\n",
    "df['duration_mins'] = df['duration_ms'] / 60000\n",
    "\n",
    "instrumentalness_mean = df['instrumentalness'].mean()\n",
    "df['instrumentalness'].fillna(instrumentalness_mean, inplace= True)\n",
    "\n",
    "speechiness_mean = df['speechiness'].mean()\n",
    "df['speechiness'].fillna(speechiness_mean, inplace= True)\n",
    "\n",
    "popularity_mean = df['popularity'].mean()\n",
    "df['popularity'].fillna(popularity_mean, inplace= True)"
   ]
  },
  {
   "cell_type": "code",
   "execution_count": 26,
   "id": "3288ba16",
   "metadata": {},
   "outputs": [],
   "source": [
    "df['voice_gender'].fillna('No', inplace= True)\n",
    "\n",
    "df['mode'].replace('?', np.nan, inplace= True)"
   ]
  },
  {
   "cell_type": "code",
   "execution_count": 40,
   "id": "5c38a57b",
   "metadata": {},
   "outputs": [],
   "source": [
    "df['mode'].fillna(random.choice(['Major', 'Minor']), inplace= True)\n",
    "\n",
    "df['musician_category'].fillna(random.choice(['Band', 'Duet', 'Solo']), inplace= True)"
   ]
  },
  {
   "cell_type": "code",
   "execution_count": 107,
   "id": "e9e692b5",
   "metadata": {},
   "outputs": [],
   "source": [
    "def fill_by_genre_mean(df, features):\n",
    "    for feature in features:\n",
    "        df[feature].fillna(df.groupby('music_genre')[feature].transform('mean'), inplace= True)\n",
    "    return df\n",
    "\n",
    "df = fill_by_genre_mean(df,['danceability', 'energy', 'loudness', 'tempo', 'valence'] )"
   ]
  },
  {
   "cell_type": "code",
   "execution_count": 108,
   "id": "bd647cb2",
   "metadata": {},
   "outputs": [
    {
     "data": {
      "text/plain": [
       "Series([], dtype: float64)"
      ]
     },
     "execution_count": 108,
     "metadata": {},
     "output_type": "execute_result"
    }
   ],
   "source": [
    "fin_missing_cols = df.columns[df.isnull().any()].to_list()\n",
    "fin_missing_cols_count = df[fin_missing_cols].isnull().sum()\n",
    "fin_missing_cols_count"
   ]
  },
  {
   "cell_type": "markdown",
   "id": "97af2316",
   "metadata": {},
   "source": [
    "## References\n",
    "- [Replace invalid values](https://stackoverflow.com/questions/17097236/replace-invalid-values-with-none-in-pandas-dataframe)\n",
    "- [Replace values randomly](https://stackoverflow.com/questions/36413314/filling-missing-data-by-random-choosing-from-non-missing-values-in-pandas-datafr)\n",
    "- [Pandas: filling missing values by mean in each group](https://stackoverflow.com/questions/19966018/pandas-filling-missing-values-by-mean-in-each-group)"
   ]
  }
 ],
 "metadata": {
  "kernelspec": {
   "display_name": "Python [conda env:ml] *",
   "language": "python",
   "name": "conda-env-ml-py"
  },
  "language_info": {
   "codemirror_mode": {
    "name": "ipython",
    "version": 3
   },
   "file_extension": ".py",
   "mimetype": "text/x-python",
   "name": "python",
   "nbconvert_exporter": "python",
   "pygments_lexer": "ipython3",
   "version": "3.8.11"
  }
 },
 "nbformat": 4,
 "nbformat_minor": 5
}
