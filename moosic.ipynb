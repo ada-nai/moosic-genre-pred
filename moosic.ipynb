{
 "cells": [
  {
   "cell_type": "code",
   "execution_count": 2,
   "id": "79f90e4c",
   "metadata": {},
   "outputs": [],
   "source": [
    "# Import packages\n",
    "import os\n",
    "import pandas as pd\n",
    "import numpy as np\n",
    "\n",
    "import random\n",
    "\n",
    "pd.set_option('display.max_columns', None)\n",
    "pd.set_option(\"display.float_format\", lambda x: f'{x:.2f}')\n",
    "\n",
    "import warnings\n",
    "warnings.filterwarnings(\"ignore\")"
   ]
  },
  {
   "cell_type": "code",
   "execution_count": 3,
   "id": "00d9c03f",
   "metadata": {},
   "outputs": [],
   "source": [
    "def std_col_names(df):\n",
    "    \"\"\"\n",
    "    Convert feature names to lower case\n",
    "    \"\"\"\n",
    "    df.columns = df.columns.str.lower().str.strip().str.replace(' ', '_')\n",
    "    return df\n"
   ]
  },
  {
   "cell_type": "code",
   "execution_count": 4,
   "id": "69822e41",
   "metadata": {},
   "outputs": [
    {
     "data": {
      "text/plain": [
       "['sample_submission.csv', 'train.csv', 'test.csv']"
      ]
     },
     "execution_count": 4,
     "metadata": {},
     "output_type": "execute_result"
    }
   ],
   "source": [
    "os.listdir('./data/')"
   ]
  },
  {
   "cell_type": "code",
   "execution_count": 5,
   "id": "cb868d4a",
   "metadata": {},
   "outputs": [
    {
     "data": {
      "text/html": [
       "<div>\n",
       "<style scoped>\n",
       "    .dataframe tbody tr th:only-of-type {\n",
       "        vertical-align: middle;\n",
       "    }\n",
       "\n",
       "    .dataframe tbody tr th {\n",
       "        vertical-align: top;\n",
       "    }\n",
       "\n",
       "    .dataframe thead th {\n",
       "        text-align: right;\n",
       "    }\n",
       "</style>\n",
       "<table border=\"1\" class=\"dataframe\">\n",
       "  <thead>\n",
       "    <tr style=\"text-align: right;\">\n",
       "      <th></th>\n",
       "      <th>instance_id</th>\n",
       "      <th>track_name</th>\n",
       "      <th>popularity</th>\n",
       "      <th>acousticness</th>\n",
       "      <th>danceability</th>\n",
       "      <th>duration_ms</th>\n",
       "      <th>energy</th>\n",
       "      <th>instrumentalness</th>\n",
       "      <th>key</th>\n",
       "      <th>liveness</th>\n",
       "      <th>loudness</th>\n",
       "      <th>voice_gender</th>\n",
       "      <th>mode</th>\n",
       "      <th>speechiness</th>\n",
       "      <th>tempo</th>\n",
       "      <th>musician_category</th>\n",
       "      <th>valence</th>\n",
       "      <th>music_genre</th>\n",
       "    </tr>\n",
       "  </thead>\n",
       "  <tbody>\n",
       "    <tr>\n",
       "      <th>0</th>\n",
       "      <td>MSC_83537.0</td>\n",
       "      <td>Estrellitas y Duendes</td>\n",
       "      <td>49.18</td>\n",
       "      <td>0.97</td>\n",
       "      <td>0.58</td>\n",
       "      <td>214625.78</td>\n",
       "      <td>0.19</td>\n",
       "      <td>0.00</td>\n",
       "      <td>Scale E</td>\n",
       "      <td>0.15</td>\n",
       "      <td>-14.14</td>\n",
       "      <td>NaN</td>\n",
       "      <td>Major</td>\n",
       "      <td>0.05</td>\n",
       "      <td>143.78799999999998</td>\n",
       "      <td>Band</td>\n",
       "      <td>0.60</td>\n",
       "      <td>Jazz</td>\n",
       "    </tr>\n",
       "    <tr>\n",
       "      <th>1</th>\n",
       "      <td>MSC_22044.0</td>\n",
       "      <td>Al Norte</td>\n",
       "      <td>59.83</td>\n",
       "      <td>1.01</td>\n",
       "      <td>0.69</td>\n",
       "      <td>216232.20</td>\n",
       "      <td>0.27</td>\n",
       "      <td>0.00</td>\n",
       "      <td>Scale A</td>\n",
       "      <td>0.17</td>\n",
       "      <td>-13.72</td>\n",
       "      <td>Male</td>\n",
       "      <td>?</td>\n",
       "      <td>0.04</td>\n",
       "      <td>?</td>\n",
       "      <td>Band</td>\n",
       "      <td>0.36</td>\n",
       "      <td>Jazz</td>\n",
       "    </tr>\n",
       "    <tr>\n",
       "      <th>2</th>\n",
       "      <td>MSC_62017.0</td>\n",
       "      <td>Yeah! (feat. Lil Jon &amp; Ludacris)</td>\n",
       "      <td>89.02</td>\n",
       "      <td>0.02</td>\n",
       "      <td>0.97</td>\n",
       "      <td>273314.72</td>\n",
       "      <td>0.86</td>\n",
       "      <td>0.00</td>\n",
       "      <td>Scale D</td>\n",
       "      <td>0.04</td>\n",
       "      <td>-5.00</td>\n",
       "      <td>Female</td>\n",
       "      <td>Major</td>\n",
       "      <td>0.12</td>\n",
       "      <td>105.01799999999999</td>\n",
       "      <td>Band</td>\n",
       "      <td>0.64</td>\n",
       "      <td>Rap</td>\n",
       "    </tr>\n",
       "    <tr>\n",
       "      <th>3</th>\n",
       "      <td>MSC_76365.0</td>\n",
       "      <td>Can’t You See</td>\n",
       "      <td>55.76</td>\n",
       "      <td>0.01</td>\n",
       "      <td>0.62</td>\n",
       "      <td>189189.61</td>\n",
       "      <td>0.97</td>\n",
       "      <td>0.00</td>\n",
       "      <td>Scale D</td>\n",
       "      <td>0.12</td>\n",
       "      <td>-4.26</td>\n",
       "      <td>Both</td>\n",
       "      <td>Major</td>\n",
       "      <td>0.17</td>\n",
       "      <td>?</td>\n",
       "      <td>Duet</td>\n",
       "      <td>0.98</td>\n",
       "      <td>Rock</td>\n",
       "    </tr>\n",
       "    <tr>\n",
       "      <th>4</th>\n",
       "      <td>MSC_71493.0</td>\n",
       "      <td>Sonata III (G Moll), BWV 1029: Adagio</td>\n",
       "      <td>45.09</td>\n",
       "      <td>0.86</td>\n",
       "      <td>0.28</td>\n",
       "      <td>410136.99</td>\n",
       "      <td>0.11</td>\n",
       "      <td>0.00</td>\n",
       "      <td>Scale F Sharp</td>\n",
       "      <td>0.13</td>\n",
       "      <td>-26.92</td>\n",
       "      <td>Female</td>\n",
       "      <td>Minor</td>\n",
       "      <td>0.04</td>\n",
       "      <td>112.18299999999999</td>\n",
       "      <td>Band</td>\n",
       "      <td>0.07</td>\n",
       "      <td>Classical</td>\n",
       "    </tr>\n",
       "  </tbody>\n",
       "</table>\n",
       "</div>"
      ],
      "text/plain": [
       "   instance_id                             track_name  popularity  \\\n",
       "0  MSC_83537.0                  Estrellitas y Duendes       49.18   \n",
       "1  MSC_22044.0                               Al Norte       59.83   \n",
       "2  MSC_62017.0       Yeah! (feat. Lil Jon & Ludacris)       89.02   \n",
       "3  MSC_76365.0                          Can’t You See       55.76   \n",
       "4  MSC_71493.0  Sonata III (G Moll), BWV 1029: Adagio       45.09   \n",
       "\n",
       "   acousticness  danceability  duration_ms  energy  instrumentalness  \\\n",
       "0          0.97          0.58    214625.78    0.19              0.00   \n",
       "1          1.01          0.69    216232.20    0.27              0.00   \n",
       "2          0.02          0.97    273314.72    0.86              0.00   \n",
       "3          0.01          0.62    189189.61    0.97              0.00   \n",
       "4          0.86          0.28    410136.99    0.11              0.00   \n",
       "\n",
       "             key  liveness  loudness voice_gender   mode  speechiness  \\\n",
       "0        Scale E      0.15    -14.14          NaN  Major         0.05   \n",
       "1        Scale A      0.17    -13.72         Male      ?         0.04   \n",
       "2        Scale D      0.04     -5.00       Female  Major         0.12   \n",
       "3        Scale D      0.12     -4.26         Both  Major         0.17   \n",
       "4  Scale F Sharp      0.13    -26.92       Female  Minor         0.04   \n",
       "\n",
       "                tempo musician_category  valence music_genre  \n",
       "0  143.78799999999998              Band     0.60        Jazz  \n",
       "1                   ?              Band     0.36        Jazz  \n",
       "2  105.01799999999999              Band     0.64         Rap  \n",
       "3                   ?              Duet     0.98        Rock  \n",
       "4  112.18299999999999              Band     0.07   Classical  "
      ]
     },
     "execution_count": 5,
     "metadata": {},
     "output_type": "execute_result"
    }
   ],
   "source": [
    "# Load DF\n",
    "train_df = std_col_names(pd.read_csv('./data/train.csv'))\n",
    "df = train_df.copy()\n",
    "df.head(5)"
   ]
  },
  {
   "cell_type": "code",
   "execution_count": 6,
   "id": "c3f238ff",
   "metadata": {},
   "outputs": [
    {
     "name": "stdout",
     "output_type": "stream",
     "text": [
      "<class 'pandas.core.frame.DataFrame'>\n",
      "RangeIndex: 15681 entries, 0 to 15680\n",
      "Data columns (total 18 columns):\n",
      " #   Column             Non-Null Count  Dtype  \n",
      "---  ------             --------------  -----  \n",
      " 0   instance_id        15681 non-null  object \n",
      " 1   track_name         15681 non-null  object \n",
      " 2   popularity         15039 non-null  float64\n",
      " 3   acousticness       15681 non-null  float64\n",
      " 4   danceability       15125 non-null  float64\n",
      " 5   duration_ms        15587 non-null  float64\n",
      " 6   energy             15587 non-null  float64\n",
      " 7   instrumentalness   15586 non-null  float64\n",
      " 8   key                15681 non-null  object \n",
      " 9   liveness           15681 non-null  float64\n",
      " 10  loudness           15645 non-null  float64\n",
      " 11  voice_gender       14916 non-null  object \n",
      " 12  mode               15646 non-null  object \n",
      " 13  speechiness        15655 non-null  float64\n",
      " 14  tempo              15681 non-null  object \n",
      " 15  musician_category  14321 non-null  object \n",
      " 16  valence            15004 non-null  float64\n",
      " 17  music_genre        15681 non-null  object \n",
      "dtypes: float64(10), object(8)\n",
      "memory usage: 2.2+ MB\n"
     ]
    }
   ],
   "source": [
    "# Observe missing data and feature types\n",
    "df.info()"
   ]
  },
  {
   "cell_type": "code",
   "execution_count": 7,
   "id": "8663afba",
   "metadata": {},
   "outputs": [
    {
     "name": "stdout",
     "output_type": "stream",
     "text": [
      "Features with missing values: \n"
     ]
    },
    {
     "data": {
      "text/plain": [
       "['popularity',\n",
       " 'danceability',\n",
       " 'duration_ms',\n",
       " 'energy',\n",
       " 'instrumentalness',\n",
       " 'loudness',\n",
       " 'voice_gender',\n",
       " 'mode',\n",
       " 'speechiness',\n",
       " 'musician_category',\n",
       " 'valence']"
      ]
     },
     "execution_count": 7,
     "metadata": {},
     "output_type": "execute_result"
    }
   ],
   "source": [
    "# Find out missing column names\n",
    "missing_cols = df.columns[df.isnull().any()].to_list()\n",
    "print('Features with missing values: ')\n",
    "missing_cols"
   ]
  },
  {
   "cell_type": "code",
   "execution_count": 8,
   "id": "786f5868",
   "metadata": {},
   "outputs": [
    {
     "name": "stdout",
     "output_type": "stream",
     "text": [
      "Number of missing values for each feature in descending order: \n"
     ]
    },
    {
     "data": {
      "text/plain": [
       "popularity            642\n",
       "danceability          556\n",
       "duration_ms            94\n",
       "energy                 94\n",
       "instrumentalness       95\n",
       "loudness               36\n",
       "voice_gender          765\n",
       "mode                   35\n",
       "speechiness            26\n",
       "musician_category    1360\n",
       "valence               677\n",
       "dtype: int64"
      ]
     },
     "execution_count": 8,
     "metadata": {},
     "output_type": "execute_result"
    }
   ],
   "source": [
    "# Evaluate count of missing values\n",
    "missing_cols_count = df[missing_cols].isnull().sum()\n",
    "print('Number of missing values for each feature in descending order: ')\n",
    "(missing_cols_count)#.sort_values(ascending= False)"
   ]
  },
  {
   "cell_type": "code",
   "execution_count": 9,
   "id": "2dbc579b",
   "metadata": {},
   "outputs": [
    {
     "name": "stdout",
     "output_type": "stream",
     "text": [
      "Descriptive stats of numerical features: \n"
     ]
    },
    {
     "data": {
      "text/html": [
       "<div>\n",
       "<style scoped>\n",
       "    .dataframe tbody tr th:only-of-type {\n",
       "        vertical-align: middle;\n",
       "    }\n",
       "\n",
       "    .dataframe tbody tr th {\n",
       "        vertical-align: top;\n",
       "    }\n",
       "\n",
       "    .dataframe thead th {\n",
       "        text-align: right;\n",
       "    }\n",
       "</style>\n",
       "<table border=\"1\" class=\"dataframe\">\n",
       "  <thead>\n",
       "    <tr style=\"text-align: right;\">\n",
       "      <th></th>\n",
       "      <th>popularity</th>\n",
       "      <th>acousticness</th>\n",
       "      <th>danceability</th>\n",
       "      <th>duration_ms</th>\n",
       "      <th>energy</th>\n",
       "      <th>instrumentalness</th>\n",
       "      <th>liveness</th>\n",
       "      <th>loudness</th>\n",
       "      <th>speechiness</th>\n",
       "      <th>valence</th>\n",
       "    </tr>\n",
       "  </thead>\n",
       "  <tbody>\n",
       "    <tr>\n",
       "      <th>min</th>\n",
       "      <td>0.00</td>\n",
       "      <td>0.00</td>\n",
       "      <td>0.06</td>\n",
       "      <td>-1.00</td>\n",
       "      <td>-1.00</td>\n",
       "      <td>0.00</td>\n",
       "      <td>0.02</td>\n",
       "      <td>-50.05</td>\n",
       "      <td>0.02</td>\n",
       "      <td>0.00</td>\n",
       "    </tr>\n",
       "    <tr>\n",
       "      <th>max</th>\n",
       "      <td>108.51</td>\n",
       "      <td>1.09</td>\n",
       "      <td>1.07</td>\n",
       "      <td>3410383.32</td>\n",
       "      <td>1.09</td>\n",
       "      <td>1.08</td>\n",
       "      <td>1.08</td>\n",
       "      <td>1.39</td>\n",
       "      <td>1.00</td>\n",
       "      <td>1.08</td>\n",
       "    </tr>\n",
       "    <tr>\n",
       "      <th>mean</th>\n",
       "      <td>50.82</td>\n",
       "      <td>0.45</td>\n",
       "      <td>0.57</td>\n",
       "      <td>248000.81</td>\n",
       "      <td>0.43</td>\n",
       "      <td>0.26</td>\n",
       "      <td>0.19</td>\n",
       "      <td>-11.62</td>\n",
       "      <td>0.10</td>\n",
       "      <td>0.45</td>\n",
       "    </tr>\n",
       "    <tr>\n",
       "      <th>50%</th>\n",
       "      <td>54.11</td>\n",
       "      <td>0.30</td>\n",
       "      <td>0.59</td>\n",
       "      <td>236212.74</td>\n",
       "      <td>0.56</td>\n",
       "      <td>0.00</td>\n",
       "      <td>0.13</td>\n",
       "      <td>-8.61</td>\n",
       "      <td>0.05</td>\n",
       "      <td>0.43</td>\n",
       "    </tr>\n",
       "  </tbody>\n",
       "</table>\n",
       "</div>"
      ],
      "text/plain": [
       "      popularity  acousticness  danceability  duration_ms  energy  \\\n",
       "min         0.00          0.00          0.06        -1.00   -1.00   \n",
       "max       108.51          1.09          1.07   3410383.32    1.09   \n",
       "mean       50.82          0.45          0.57    248000.81    0.43   \n",
       "50%        54.11          0.30          0.59    236212.74    0.56   \n",
       "\n",
       "      instrumentalness  liveness  loudness  speechiness  valence  \n",
       "min               0.00      0.02    -50.05         0.02     0.00  \n",
       "max               1.08      1.08      1.39         1.00     1.08  \n",
       "mean              0.26      0.19    -11.62         0.10     0.45  \n",
       "50%               0.00      0.13     -8.61         0.05     0.43  "
      ]
     },
     "execution_count": 9,
     "metadata": {},
     "output_type": "execute_result"
    }
   ],
   "source": [
    "# View data distribution of numeric features\n",
    "print('Descriptive stats of numerical features: ')\n",
    "df.describe().loc[['min', 'max', 'mean', '50%']]"
   ]
  },
  {
   "cell_type": "code",
   "execution_count": 10,
   "id": "e9b990c2",
   "metadata": {},
   "outputs": [
    {
     "name": "stdout",
     "output_type": "stream",
     "text": [
      "Descriptive stats of numerical features: \n"
     ]
    },
    {
     "data": {
      "text/html": [
       "<div>\n",
       "<style scoped>\n",
       "    .dataframe tbody tr th:only-of-type {\n",
       "        vertical-align: middle;\n",
       "    }\n",
       "\n",
       "    .dataframe tbody tr th {\n",
       "        vertical-align: top;\n",
       "    }\n",
       "\n",
       "    .dataframe thead th {\n",
       "        text-align: right;\n",
       "    }\n",
       "</style>\n",
       "<table border=\"1\" class=\"dataframe\">\n",
       "  <thead>\n",
       "    <tr style=\"text-align: right;\">\n",
       "      <th></th>\n",
       "      <th>instance_id</th>\n",
       "      <th>track_name</th>\n",
       "      <th>key</th>\n",
       "      <th>voice_gender</th>\n",
       "      <th>mode</th>\n",
       "      <th>tempo</th>\n",
       "      <th>musician_category</th>\n",
       "      <th>music_genre</th>\n",
       "    </tr>\n",
       "  </thead>\n",
       "  <tbody>\n",
       "    <tr>\n",
       "      <th>count</th>\n",
       "      <td>15681</td>\n",
       "      <td>15681</td>\n",
       "      <td>15681</td>\n",
       "      <td>14916</td>\n",
       "      <td>15646</td>\n",
       "      <td>15681</td>\n",
       "      <td>14321</td>\n",
       "      <td>15681</td>\n",
       "    </tr>\n",
       "    <tr>\n",
       "      <th>unique</th>\n",
       "      <td>15681</td>\n",
       "      <td>14799</td>\n",
       "      <td>12</td>\n",
       "      <td>3</td>\n",
       "      <td>3</td>\n",
       "      <td>12332</td>\n",
       "      <td>3</td>\n",
       "      <td>7</td>\n",
       "    </tr>\n",
       "    <tr>\n",
       "      <th>top</th>\n",
       "      <td>MSC_83537.0</td>\n",
       "      <td>Smile</td>\n",
       "      <td>Scale C</td>\n",
       "      <td>Female</td>\n",
       "      <td>Major</td>\n",
       "      <td>?</td>\n",
       "      <td>Band</td>\n",
       "      <td>Classical</td>\n",
       "    </tr>\n",
       "    <tr>\n",
       "      <th>freq</th>\n",
       "      <td>1</td>\n",
       "      <td>7</td>\n",
       "      <td>1771</td>\n",
       "      <td>5050</td>\n",
       "      <td>9210</td>\n",
       "      <td>1476</td>\n",
       "      <td>4843</td>\n",
       "      <td>3990</td>\n",
       "    </tr>\n",
       "  </tbody>\n",
       "</table>\n",
       "</div>"
      ],
      "text/plain": [
       "        instance_id track_name      key voice_gender   mode  tempo  \\\n",
       "count         15681      15681    15681        14916  15646  15681   \n",
       "unique        15681      14799       12            3      3  12332   \n",
       "top     MSC_83537.0      Smile  Scale C       Female  Major      ?   \n",
       "freq              1          7     1771         5050   9210   1476   \n",
       "\n",
       "       musician_category music_genre  \n",
       "count              14321       15681  \n",
       "unique                 3           7  \n",
       "top                 Band   Classical  \n",
       "freq                4843        3990  "
      ]
     },
     "execution_count": 10,
     "metadata": {},
     "output_type": "execute_result"
    }
   ],
   "source": [
    "# View data distribution of categorical features\n",
    "print('Descriptive stats of numerical features: ')\n",
    "df.describe(include= 'object')"
   ]
  },
  {
   "cell_type": "code",
   "execution_count": 11,
   "id": "1db806df",
   "metadata": {},
   "outputs": [
    {
     "name": "stdout",
     "output_type": "stream",
     "text": [
      "Unique values in each feature: \n"
     ]
    },
    {
     "data": {
      "text/plain": [
       "instance_id          15681\n",
       "track_name           14799\n",
       "popularity           12743\n",
       "acousticness         15681\n",
       "danceability         15125\n",
       "duration_ms          14011\n",
       "energy               14371\n",
       "instrumentalness     11219\n",
       "key                     12\n",
       "liveness             15681\n",
       "loudness             10473\n",
       "voice_gender             3\n",
       "mode                     3\n",
       "speechiness          15655\n",
       "tempo                12332\n",
       "musician_category        3\n",
       "valence              15004\n",
       "music_genre              7\n",
       "dtype: int64"
      ]
     },
     "execution_count": 11,
     "metadata": {},
     "output_type": "execute_result"
    }
   ],
   "source": [
    "print('Unique values in each feature: ')\n",
    "df.nunique()"
   ]
  },
  {
   "cell_type": "code",
   "execution_count": 12,
   "id": "48fb651d",
   "metadata": {},
   "outputs": [
    {
     "name": "stdout",
     "output_type": "stream",
     "text": [
      "Unique music_genres: \n",
      "Classical     3990\n",
      "Rock          3879\n",
      "Rap           3207\n",
      "Jazz          2850\n",
      "Country        683\n",
      "Electronic     614\n",
      "Hip-Hop        458\n",
      "Name: music_genre, dtype: int64\n"
     ]
    }
   ],
   "source": [
    "print('Unique music_genres: ')\n",
    "print(df['music_genre'].value_counts())"
   ]
  },
  {
   "cell_type": "code",
   "execution_count": 13,
   "id": "392963b7",
   "metadata": {},
   "outputs": [
    {
     "name": "stdout",
     "output_type": "stream",
     "text": [
      "Number of records with duration= -1 :\n",
      "1577\n",
      "Number of records with duration= np.nan :\n",
      "94\n"
     ]
    }
   ],
   "source": [
    "print(f'Number of records with duration= -1 :')\n",
    "print(df[df['duration_ms']==-1].shape[0])\n",
    "\n",
    "print(f'Number of records with duration= np.nan :')\n",
    "print(df['duration_ms'].isna().sum())"
   ]
  },
  {
   "cell_type": "code",
   "execution_count": 14,
   "id": "e2baf0eb",
   "metadata": {},
   "outputs": [
    {
     "name": "stdout",
     "output_type": "stream",
     "text": [
      "Number of records with energy= -1 :\n",
      "1217\n",
      "Number of records with duration= np.nan :\n",
      "94\n"
     ]
    }
   ],
   "source": [
    "print(f'Number of records with energy= -1 :')\n",
    "print(df[df['energy']==-1].shape[0])\n",
    "\n",
    "print(f'Number of records with duration= np.nan :')\n",
    "print(df['energy'].isna().sum())"
   ]
  },
  {
   "cell_type": "code",
   "execution_count": 15,
   "id": "8178dcf6",
   "metadata": {},
   "outputs": [
    {
     "name": "stdout",
     "output_type": "stream",
     "text": [
      "Loudness value count greater than 0: \n",
      "7\n"
     ]
    }
   ],
   "source": [
    "print('Loudness value count greater than 0: ')\n",
    "print(df[df['loudness']>=0].shape[0])"
   ]
  },
  {
   "cell_type": "markdown",
   "id": "60230219",
   "metadata": {},
   "source": [
    "## Observing data"
   ]
  },
  {
   "cell_type": "code",
   "execution_count": 16,
   "id": "39387705",
   "metadata": {},
   "outputs": [
    {
     "name": "stdout",
     "output_type": "stream",
     "text": [
      "Unqiue key values: \n",
      "['Scale E' 'Scale A' 'Scale D' 'Scale F Sharp' 'Scale G Sharp'\n",
      " 'Scale C Sharp' 'Scale A Sharp' 'Scale F' 'Scale G' 'Scale B' 'Scale C'\n",
      " 'Scale D Sharp']\n"
     ]
    }
   ],
   "source": [
    "print('Unqiue key values: ')\n",
    "print(df['key'].unique())"
   ]
  },
  {
   "cell_type": "code",
   "execution_count": 17,
   "id": "78ec5f12",
   "metadata": {},
   "outputs": [
    {
     "name": "stdout",
     "output_type": "stream",
     "text": [
      "Unique mode values: \n",
      "Major    9210\n",
      "Minor    5357\n",
      "?        1079\n",
      "Name: mode, dtype: int64\n"
     ]
    }
   ],
   "source": [
    "print('Unique mode values: ')\n",
    "print(df['mode'].value_counts())\n"
   ]
  },
  {
   "cell_type": "code",
   "execution_count": 18,
   "id": "89efa2db",
   "metadata": {},
   "outputs": [
    {
     "name": "stdout",
     "output_type": "stream",
     "text": [
      "Tempo records with `?`: \n",
      "1476\n"
     ]
    }
   ],
   "source": [
    "print('Tempo records with `?`: ')\n",
    "print(df[df['tempo']=='?'].shape[0])"
   ]
  },
  {
   "cell_type": "code",
   "execution_count": 19,
   "id": "b8fb7213",
   "metadata": {},
   "outputs": [
    {
     "data": {
      "text/plain": [
       "Classical     396\n",
       "Rock          328\n",
       "Rap           325\n",
       "Jazz          276\n",
       "Electronic     58\n",
       "Country        56\n",
       "Hip-Hop        37\n",
       "Name: music_genre, dtype: int64"
      ]
     },
     "execution_count": 19,
     "metadata": {},
     "output_type": "execute_result"
    }
   ],
   "source": [
    "df[df['tempo']=='?']['music_genre'].value_counts()"
   ]
  },
  {
   "cell_type": "code",
   "execution_count": 20,
   "id": "844c8d45",
   "metadata": {},
   "outputs": [
    {
     "name": "stdout",
     "output_type": "stream",
     "text": [
      "Value counts of musician_category\n",
      "Band    4843\n",
      "Solo    4784\n",
      "Duet    4694\n",
      "Name: musician_category, dtype: int64\n"
     ]
    },
    {
     "data": {
      "text/html": [
       "<div>\n",
       "<style scoped>\n",
       "    .dataframe tbody tr th:only-of-type {\n",
       "        vertical-align: middle;\n",
       "    }\n",
       "\n",
       "    .dataframe tbody tr th {\n",
       "        vertical-align: top;\n",
       "    }\n",
       "\n",
       "    .dataframe thead th {\n",
       "        text-align: right;\n",
       "    }\n",
       "</style>\n",
       "<table border=\"1\" class=\"dataframe\">\n",
       "  <thead>\n",
       "    <tr style=\"text-align: right;\">\n",
       "      <th></th>\n",
       "      <th>track_name</th>\n",
       "      <th>musician_category</th>\n",
       "    </tr>\n",
       "  </thead>\n",
       "  <tbody>\n",
       "    <tr>\n",
       "      <th>0</th>\n",
       "      <td>Estrellitas y Duendes</td>\n",
       "      <td>Band</td>\n",
       "    </tr>\n",
       "    <tr>\n",
       "      <th>1</th>\n",
       "      <td>Al Norte</td>\n",
       "      <td>Band</td>\n",
       "    </tr>\n",
       "    <tr>\n",
       "      <th>2</th>\n",
       "      <td>Yeah! (feat. Lil Jon &amp; Ludacris)</td>\n",
       "      <td>Band</td>\n",
       "    </tr>\n",
       "    <tr>\n",
       "      <th>3</th>\n",
       "      <td>Can’t You See</td>\n",
       "      <td>Duet</td>\n",
       "    </tr>\n",
       "    <tr>\n",
       "      <th>4</th>\n",
       "      <td>Sonata III (G Moll), BWV 1029: Adagio</td>\n",
       "      <td>Band</td>\n",
       "    </tr>\n",
       "    <tr>\n",
       "      <th>...</th>\n",
       "      <td>...</td>\n",
       "      <td>...</td>\n",
       "    </tr>\n",
       "    <tr>\n",
       "      <th>15676</th>\n",
       "      <td>I. Andante</td>\n",
       "      <td>Band</td>\n",
       "    </tr>\n",
       "    <tr>\n",
       "      <th>15677</th>\n",
       "      <td>Only Trust Your Heart</td>\n",
       "      <td>Duet</td>\n",
       "    </tr>\n",
       "    <tr>\n",
       "      <th>15678</th>\n",
       "      <td>Moment's Notice</td>\n",
       "      <td>NaN</td>\n",
       "    </tr>\n",
       "    <tr>\n",
       "      <th>15679</th>\n",
       "      <td>Such Small Scenes</td>\n",
       "      <td>Duet</td>\n",
       "    </tr>\n",
       "    <tr>\n",
       "      <th>15680</th>\n",
       "      <td>Dogs of War</td>\n",
       "      <td>Solo</td>\n",
       "    </tr>\n",
       "  </tbody>\n",
       "</table>\n",
       "<p>15681 rows × 2 columns</p>\n",
       "</div>"
      ],
      "text/plain": [
       "                                  track_name musician_category\n",
       "0                      Estrellitas y Duendes              Band\n",
       "1                                   Al Norte              Band\n",
       "2           Yeah! (feat. Lil Jon & Ludacris)              Band\n",
       "3                              Can’t You See              Duet\n",
       "4      Sonata III (G Moll), BWV 1029: Adagio              Band\n",
       "...                                      ...               ...\n",
       "15676                             I. Andante              Band\n",
       "15677                  Only Trust Your Heart              Duet\n",
       "15678                        Moment's Notice               NaN\n",
       "15679                      Such Small Scenes              Duet\n",
       "15680                            Dogs of War              Solo\n",
       "\n",
       "[15681 rows x 2 columns]"
      ]
     },
     "execution_count": 20,
     "metadata": {},
     "output_type": "execute_result"
    }
   ],
   "source": [
    "print('Value counts of musician_category')\n",
    "print(df['musician_category'].value_counts())\n",
    "\n",
    "df[['track_name', 'musician_category']]"
   ]
  },
  {
   "cell_type": "markdown",
   "id": "73626c30",
   "metadata": {},
   "source": [
    "## Impute values using Pipeline where required"
   ]
  },
  {
   "cell_type": "code",
   "execution_count": 21,
   "id": "0d290375",
   "metadata": {},
   "outputs": [],
   "source": [
    "from sklearn.impute import SimpleImputer, KNNImputer\n",
    "from sklearn.compose import ColumnTransformer"
   ]
  },
  {
   "cell_type": "code",
   "execution_count": 22,
   "id": "65a68931",
   "metadata": {},
   "outputs": [],
   "source": [
    "# Convert duration in ms to duration in minutes\n",
    "df['duration_mins'] = df['duration_ms'] / 60000\n",
    "\n",
    "# Fill NA values of mode feature randomly with one of ['Major', 'Minor']\n",
    "df['mode'].replace('?', np.nan, inplace= True)\n",
    "df['mode'].fillna(random.choice(['Major', 'Minor']), inplace= True)\n",
    "\n",
    "# Fill NA values of musician_category feature randomly with one of ['Band', 'Duet', 'Solo']\n",
    "df['musician_category'].fillna(random.choice(['Band', 'Duet', 'Solo']), inplace= True)\n",
    "\n",
    "df['voice_gender'].fillna('No', inplace= True)"
   ]
  },
  {
   "cell_type": "code",
   "execution_count": 23,
   "id": "0fba211d",
   "metadata": {},
   "outputs": [],
   "source": [
    "# Change type of tempo feture\n",
    "df['tempo'].replace('?', np.nan, inplace= True)\n",
    "df['tempo'] = df['tempo'].astype('float')"
   ]
  },
  {
   "cell_type": "code",
   "execution_count": 24,
   "id": "c7327d2f",
   "metadata": {},
   "outputs": [],
   "source": [
    "fin_cols = [\n",
    " 'popularity',\n",
    " 'acousticness',\n",
    " 'danceability',\n",
    " 'energy',\n",
    " 'instrumentalness',\n",
    " 'key',\n",
    " 'liveness',\n",
    " 'loudness',\n",
    " 'voice_gender',\n",
    " 'mode',\n",
    " 'speechiness',\n",
    " 'tempo',\n",
    " 'musician_category',\n",
    " 'valence',\n",
    " 'duration_mins'\n",
    "]"
   ]
  },
  {
   "cell_type": "code",
   "execution_count": 25,
   "id": "c5ce9bbc",
   "metadata": {},
   "outputs": [
    {
     "data": {
      "text/plain": [
       "[((0, 'popularity'),),\n",
       " ((1, 'acousticness'),),\n",
       " ((2, 'danceability'),),\n",
       " ((3, 'energy'),),\n",
       " ((4, 'instrumentalness'),),\n",
       " ((5, 'key'),),\n",
       " ((6, 'liveness'),),\n",
       " ((7, 'loudness'),),\n",
       " ((8, 'voice_gender'),),\n",
       " ((9, 'mode'),),\n",
       " ((10, 'speechiness'),),\n",
       " ((11, 'tempo'),),\n",
       " ((12, 'musician_category'),),\n",
       " ((13, 'valence'),),\n",
       " ((14, 'duration_mins'),)]"
      ]
     },
     "execution_count": 25,
     "metadata": {},
     "output_type": "execute_result"
    }
   ],
   "source": [
    "list(zip(enumerate(df[fin_cols].columns.to_list())))"
   ]
  },
  {
   "cell_type": "code",
   "execution_count": 26,
   "id": "902461bd",
   "metadata": {},
   "outputs": [],
   "source": [
    "# Column transformer for imputation\n",
    "ct = ColumnTransformer(\n",
    "[\n",
    "    ('mean', SimpleImputer(strategy='mean'), [0, 4, 10, 14]),\n",
    "    ('knn', KNNImputer(weights= 'distance'), [2, 3, 7, 11, 13])\n",
    "],remainder='passthrough'\n",
    ")"
   ]
  },
  {
   "cell_type": "code",
   "execution_count": 27,
   "id": "1975e83b",
   "metadata": {},
   "outputs": [],
   "source": [
    "trans_df = ct.fit_transform(df[fin_cols])"
   ]
  },
  {
   "cell_type": "code",
   "execution_count": 28,
   "id": "1d4e4e3e",
   "metadata": {},
   "outputs": [
    {
     "data": {
      "text/html": [
       "<div>\n",
       "<style scoped>\n",
       "    .dataframe tbody tr th:only-of-type {\n",
       "        vertical-align: middle;\n",
       "    }\n",
       "\n",
       "    .dataframe tbody tr th {\n",
       "        vertical-align: top;\n",
       "    }\n",
       "\n",
       "    .dataframe thead th {\n",
       "        text-align: right;\n",
       "    }\n",
       "</style>\n",
       "<table border=\"1\" class=\"dataframe\">\n",
       "  <thead>\n",
       "    <tr style=\"text-align: right;\">\n",
       "      <th></th>\n",
       "      <th>popularity</th>\n",
       "      <th>instrumentalness</th>\n",
       "      <th>speechiness</th>\n",
       "      <th>duration_mins</th>\n",
       "      <th>danceability</th>\n",
       "      <th>energy</th>\n",
       "      <th>loudness</th>\n",
       "      <th>tempo</th>\n",
       "      <th>valence</th>\n",
       "      <th>acousticness</th>\n",
       "      <th>key</th>\n",
       "      <th>liveness</th>\n",
       "      <th>voice_gender</th>\n",
       "      <th>mode</th>\n",
       "      <th>musician_category</th>\n",
       "    </tr>\n",
       "  </thead>\n",
       "  <tbody>\n",
       "    <tr>\n",
       "      <th>291</th>\n",
       "      <td>61.39</td>\n",
       "      <td>0.00</td>\n",
       "      <td>0.04</td>\n",
       "      <td>4.10</td>\n",
       "      <td>0.58</td>\n",
       "      <td>0.68</td>\n",
       "      <td>-5.87</td>\n",
       "      <td>132.28</td>\n",
       "      <td>0.26</td>\n",
       "      <td>0.01</td>\n",
       "      <td>Scale A</td>\n",
       "      <td>0.16</td>\n",
       "      <td>Male</td>\n",
       "      <td>Major</td>\n",
       "      <td>Solo</td>\n",
       "    </tr>\n",
       "    <tr>\n",
       "      <th>8158</th>\n",
       "      <td>60.66</td>\n",
       "      <td>0.00</td>\n",
       "      <td>0.45</td>\n",
       "      <td>3.56</td>\n",
       "      <td>0.54</td>\n",
       "      <td>0.87</td>\n",
       "      <td>-5.55</td>\n",
       "      <td>138.15</td>\n",
       "      <td>0.48</td>\n",
       "      <td>0.07</td>\n",
       "      <td>Scale E</td>\n",
       "      <td>0.19</td>\n",
       "      <td>Both</td>\n",
       "      <td>Minor</td>\n",
       "      <td>Duet</td>\n",
       "    </tr>\n",
       "    <tr>\n",
       "      <th>3761</th>\n",
       "      <td>76.95</td>\n",
       "      <td>0.00</td>\n",
       "      <td>0.05</td>\n",
       "      <td>3.47</td>\n",
       "      <td>0.70</td>\n",
       "      <td>0.88</td>\n",
       "      <td>-3.81</td>\n",
       "      <td>128.07</td>\n",
       "      <td>0.49</td>\n",
       "      <td>0.03</td>\n",
       "      <td>Scale A Sharp</td>\n",
       "      <td>0.21</td>\n",
       "      <td>No</td>\n",
       "      <td>Minor</td>\n",
       "      <td>Duet</td>\n",
       "    </tr>\n",
       "    <tr>\n",
       "      <th>8931</th>\n",
       "      <td>35.18</td>\n",
       "      <td>0.00</td>\n",
       "      <td>0.03</td>\n",
       "      <td>8.75</td>\n",
       "      <td>0.51</td>\n",
       "      <td>0.28</td>\n",
       "      <td>-13.40</td>\n",
       "      <td>119.98</td>\n",
       "      <td>0.20</td>\n",
       "      <td>1.00</td>\n",
       "      <td>Scale D</td>\n",
       "      <td>0.15</td>\n",
       "      <td>Both</td>\n",
       "      <td>Major</td>\n",
       "      <td>Duet</td>\n",
       "    </tr>\n",
       "    <tr>\n",
       "      <th>14601</th>\n",
       "      <td>57.12</td>\n",
       "      <td>0.00</td>\n",
       "      <td>0.39</td>\n",
       "      <td>5.10</td>\n",
       "      <td>0.78</td>\n",
       "      <td>-1.00</td>\n",
       "      <td>-1.00</td>\n",
       "      <td>148.09</td>\n",
       "      <td>0.24</td>\n",
       "      <td>0.11</td>\n",
       "      <td>Scale G Sharp</td>\n",
       "      <td>0.16</td>\n",
       "      <td>Both</td>\n",
       "      <td>Minor</td>\n",
       "      <td>Duet</td>\n",
       "    </tr>\n",
       "    <tr>\n",
       "      <th>5263</th>\n",
       "      <td>76.54</td>\n",
       "      <td>0.00</td>\n",
       "      <td>0.03</td>\n",
       "      <td>5.38</td>\n",
       "      <td>0.80</td>\n",
       "      <td>-1.00</td>\n",
       "      <td>-14.22</td>\n",
       "      <td>112.75</td>\n",
       "      <td>0.53</td>\n",
       "      <td>0.02</td>\n",
       "      <td>Scale B</td>\n",
       "      <td>0.04</td>\n",
       "      <td>Female</td>\n",
       "      <td>Minor</td>\n",
       "      <td>Solo</td>\n",
       "    </tr>\n",
       "    <tr>\n",
       "      <th>14420</th>\n",
       "      <td>62.66</td>\n",
       "      <td>0.00</td>\n",
       "      <td>0.10</td>\n",
       "      <td>3.84</td>\n",
       "      <td>0.84</td>\n",
       "      <td>0.56</td>\n",
       "      <td>-7.20</td>\n",
       "      <td>129.97</td>\n",
       "      <td>0.29</td>\n",
       "      <td>0.27</td>\n",
       "      <td>Scale D Sharp</td>\n",
       "      <td>0.15</td>\n",
       "      <td>Male</td>\n",
       "      <td>Minor</td>\n",
       "      <td>Band</td>\n",
       "    </tr>\n",
       "  </tbody>\n",
       "</table>\n",
       "</div>"
      ],
      "text/plain": [
       "      popularity instrumentalness speechiness duration_mins danceability  \\\n",
       "291        61.39             0.00        0.04          4.10         0.58   \n",
       "8158       60.66             0.00        0.45          3.56         0.54   \n",
       "3761       76.95             0.00        0.05          3.47         0.70   \n",
       "8931       35.18             0.00        0.03          8.75         0.51   \n",
       "14601      57.12             0.00        0.39          5.10         0.78   \n",
       "5263       76.54             0.00        0.03          5.38         0.80   \n",
       "14420      62.66             0.00        0.10          3.84         0.84   \n",
       "\n",
       "      energy loudness  tempo valence acousticness            key liveness  \\\n",
       "291     0.68    -5.87 132.28    0.26         0.01        Scale A     0.16   \n",
       "8158    0.87    -5.55 138.15    0.48         0.07        Scale E     0.19   \n",
       "3761    0.88    -3.81 128.07    0.49         0.03  Scale A Sharp     0.21   \n",
       "8931    0.28   -13.40 119.98    0.20         1.00        Scale D     0.15   \n",
       "14601  -1.00    -1.00 148.09    0.24         0.11  Scale G Sharp     0.16   \n",
       "5263   -1.00   -14.22 112.75    0.53         0.02        Scale B     0.04   \n",
       "14420   0.56    -7.20 129.97    0.29         0.27  Scale D Sharp     0.15   \n",
       "\n",
       "      voice_gender   mode musician_category  \n",
       "291           Male  Major              Solo  \n",
       "8158          Both  Minor              Duet  \n",
       "3761            No  Minor              Duet  \n",
       "8931          Both  Major              Duet  \n",
       "14601         Both  Minor              Duet  \n",
       "5263        Female  Minor              Solo  \n",
       "14420         Male  Minor              Band  "
      ]
     },
     "execution_count": 28,
     "metadata": {},
     "output_type": "execute_result"
    }
   ],
   "source": [
    "trans_cols = ['popularity', 'instrumentalness', 'speechiness', 'duration_mins', 'danceability', 'energy', 'loudness', 'tempo', 'valence', 'acousticness', 'key', 'liveness', 'voice_gender', 'mode', 'musician_category']\n",
    "fin_df = pd.DataFrame(trans_df, columns=trans_cols)\n",
    "fin_df.sample(7)"
   ]
  },
  {
   "cell_type": "code",
   "execution_count": 29,
   "id": "6a4d0cd9",
   "metadata": {},
   "outputs": [
    {
     "name": "stdout",
     "output_type": "stream",
     "text": [
      "Missing values: \n"
     ]
    },
    {
     "data": {
      "text/plain": [
       "Series([], dtype: float64)"
      ]
     },
     "execution_count": 29,
     "metadata": {},
     "output_type": "execute_result"
    }
   ],
   "source": [
    "fin_missing_cols = fin_df.columns[fin_df.isnull().any()].to_list()\n",
    "fin_missing_cols_count = fin_df[fin_missing_cols].isnull().sum()\n",
    "print('Missing values: ')\n",
    "fin_missing_cols_count"
   ]
  },
  {
   "cell_type": "markdown",
   "id": "b19fa0a3",
   "metadata": {},
   "source": [
    "## Modeling"
   ]
  },
  {
   "cell_type": "code",
   "execution_count": 30,
   "id": "1d800772",
   "metadata": {},
   "outputs": [],
   "source": [
    "import sklearn \n",
    "from sklearn.feature_extraction import DictVectorizer\n",
    "from sklearn.model_selection import RandomizedSearchCV\n",
    "import xgboost as xgb"
   ]
  },
  {
   "cell_type": "code",
   "execution_count": 31,
   "id": "ec155217",
   "metadata": {},
   "outputs": [],
   "source": [
    "# dictVectorizer for vectorizing data\n",
    "fin_dict = fin_df.to_dict(orient= 'records')\n",
    "dv= DictVectorizer(sparse=False)\n",
    "fin_dv = dv.fit_transform(fin_dict)"
   ]
  },
  {
   "cell_type": "code",
   "execution_count": 32,
   "id": "6d7d0d45",
   "metadata": {},
   "outputs": [],
   "source": [
    "from sklearn.feature_selection import mutual_info_classif\n",
    "\n",
    "mi = mutual_info_classif(fin_dv, df['music_genre'], n_neighbors= 5, random_state= 42, discrete_features= 'auto')\n",
    "mi_df = pd.DataFrame(mi, index= dv.get_feature_names(), columns=['mutual_info']).reset_index().sort_values(by='mutual_info', ascending= False)\n"
   ]
  },
  {
   "cell_type": "code",
   "execution_count": 33,
   "id": "e4748393",
   "metadata": {},
   "outputs": [
    {
     "data": {
      "text/plain": [
       "['popularity',\n",
       " 'acousticness',\n",
       " 'loudness',\n",
       " 'energy',\n",
       " 'danceability',\n",
       " 'instrumentalness',\n",
       " 'speechiness',\n",
       " 'valence',\n",
       " 'tempo',\n",
       " 'duration_mins']"
      ]
     },
     "execution_count": 33,
     "metadata": {},
     "output_type": "execute_result"
    }
   ],
   "source": [
    "mi_df[mi_df['mutual_info'] >=0.1]['index'].to_list()"
   ]
  },
  {
   "cell_type": "code",
   "execution_count": 34,
   "id": "2ce5a6be",
   "metadata": {},
   "outputs": [],
   "source": [
    "from sklearn.preprocessing import LabelEncoder\n",
    "lb= LabelEncoder()\n",
    "train_df['genre_label'] = lb.fit_transform(train_df['music_genre'])"
   ]
  },
  {
   "cell_type": "code",
   "execution_count": 35,
   "id": "350823b8",
   "metadata": {},
   "outputs": [
    {
     "data": {
      "text/plain": [
       "array(['Classical', 'Country', 'Electronic', 'Hip-Hop', 'Jazz', 'Rap',\n",
       "       'Rock'], dtype=object)"
      ]
     },
     "execution_count": 35,
     "metadata": {},
     "output_type": "execute_result"
    }
   ],
   "source": [
    "lb.classes_"
   ]
  },
  {
   "cell_type": "code",
   "execution_count": 36,
   "id": "572fb11c",
   "metadata": {},
   "outputs": [],
   "source": [
    "# Tuning parameter grid\n",
    "xgb_cv_params = {\n",
    "    'max_depth': [3,4,5,6,7], \n",
    "    'min_child_weight': [1,2,3,4],\n",
    "    'subsample': [0.8,0.9,1], \n",
    "    'max_delta_step': [0,1,2,4],\n",
    "    'learning_rate': [0.1, 0.2, 0.3, 0.4],\n",
    "    'n_estimators' : [75, 100, 150],\n",
    "#     'booster': ['gbtree', 'dart']\n",
    "}   \n",
    "\n",
    "# Parameters fixed\n",
    "fix_params = {'objective': 'multi:softmax', 'eval_metric': 'aucpr', 'use_label_encoder': False, 'tree_method': 'gpu_hist'}  \n",
    "\n",
    "# Create RandomizedSearchCV object\n",
    "csv = RandomizedSearchCV(xgb.XGBClassifier(**fix_params), xgb_cv_params, scoring = 'f1_macro', cv = 4, verbose=2, n_jobs= 4, n_iter= 30, random_state=42) #, random_state=42\n"
   ]
  },
  {
   "cell_type": "code",
   "execution_count": 37,
   "id": "cfe19770",
   "metadata": {},
   "outputs": [],
   "source": [
    "# # Perform randomized grid search\n",
    "# csv.fit(fin_dv, train_df['genre_label'])"
   ]
  },
  {
   "cell_type": "code",
   "execution_count": 38,
   "id": "511f7753",
   "metadata": {},
   "outputs": [],
   "source": [
    "# model = csv.best_estimator_"
   ]
  },
  {
   "cell_type": "code",
   "execution_count": 54,
   "id": "7d0f1776",
   "metadata": {},
   "outputs": [],
   "source": [
    "fin_params = {'objective': 'multi:softprob',\n",
    " 'use_label_encoder': False,\n",
    " 'base_score': 0.5,\n",
    " 'booster': 'gbtree',\n",
    " 'colsample_bylevel': 1,\n",
    " 'colsample_bynode': 1,\n",
    " 'colsample_bytree': 1,\n",
    " 'enable_categorical': False,\n",
    " 'gamma': 0,\n",
    " 'gpu_id': 0,\n",
    " 'importance_type': None,\n",
    " 'interaction_constraints': '',\n",
    " 'learning_rate': 0.2,\n",
    " 'max_delta_step': 0,\n",
    " 'max_depth': 5,\n",
    " 'min_child_weight': 3,\n",
    " 'monotone_constraints': '()',\n",
    " 'n_estimators': 150,\n",
    " 'n_jobs': 8,\n",
    " 'num_parallel_tree': 1,\n",
    " 'predictor': 'auto',\n",
    " 'random_state': 0,\n",
    " 'reg_alpha': 0,\n",
    " 'reg_lambda': 1,\n",
    " 'scale_pos_weight': None,\n",
    " 'subsample': 0.9,\n",
    " 'tree_method': 'gpu_hist',\n",
    " 'validate_parameters': 1,\n",
    " 'verbosity': None,\n",
    " 'eval_metric': 'aucpr',\n",
    "  'num_class': 7       \n",
    "             }"
   ]
  },
  {
   "cell_type": "code",
   "execution_count": 55,
   "id": "3f22da0c",
   "metadata": {
    "scrolled": true
   },
   "outputs": [
    {
     "name": "stdout",
     "output_type": "stream",
     "text": [
      "[16:40:40] WARNING: ../src/learner.cc:576: \n",
      "Parameters: { \"enable_categorical\", \"n_estimators\", \"use_label_encoder\" } might not be used.\n",
      "\n",
      "  This could be a false alarm, with some parameters getting used by language bindings but\n",
      "  then being mistakenly passed down to XGBoost core, or some parameter actually being used\n",
      "  but getting flagged wrongly here. Please open an issue if you find any such cases.\n",
      "\n",
      "\n"
     ]
    }
   ],
   "source": [
    "# Train final model\n",
    "dtrain = xgb.DMatrix(fin_dv, train_df['genre_label'])\n",
    "fin_xgb = xgb.train(fin_params, dtrain, num_boost_round = 200)"
   ]
  },
  {
   "cell_type": "markdown",
   "id": "4484d5a0",
   "metadata": {},
   "source": [
    "## Predictions on test set"
   ]
  },
  {
   "cell_type": "markdown",
   "id": "886c016c",
   "metadata": {},
   "source": [
    "### Imputations on test set"
   ]
  },
  {
   "cell_type": "code",
   "execution_count": 56,
   "id": "82a810c3",
   "metadata": {},
   "outputs": [],
   "source": [
    "test =  std_col_names(pd.read_csv('./data/test.csv'))"
   ]
  },
  {
   "cell_type": "code",
   "execution_count": 57,
   "id": "077e3e09",
   "metadata": {},
   "outputs": [],
   "source": [
    "test['duration_mins'] = test['duration_ms'] / 60000\n",
    "\n",
    "test['mode'].replace('?', np.nan, inplace= True)\n",
    "test['mode'].fillna(random.choice(['Major', 'Minor']), inplace= True)\n",
    "\n",
    "test['musician_category'].fillna(random.choice(['Band', 'Duet', 'Solo']), inplace= True)\n",
    "\n",
    "test['voice_gender'].fillna('No', inplace= True)"
   ]
  },
  {
   "cell_type": "code",
   "execution_count": 58,
   "id": "4569fbaf",
   "metadata": {},
   "outputs": [],
   "source": [
    "test['tempo'].replace('?', np.nan, inplace= True)\n",
    "test['tempo'] = test['tempo'].astype('float')"
   ]
  },
  {
   "cell_type": "code",
   "execution_count": 59,
   "id": "9fa9e6ac",
   "metadata": {},
   "outputs": [],
   "source": [
    "trans_test = ct.transform(test[fin_cols])"
   ]
  },
  {
   "cell_type": "code",
   "execution_count": 60,
   "id": "11a9b001",
   "metadata": {},
   "outputs": [
    {
     "name": "stdout",
     "output_type": "stream",
     "text": [
      "Missing values: \n"
     ]
    },
    {
     "data": {
      "text/plain": [
       "Series([], dtype: float64)"
      ]
     },
     "execution_count": 60,
     "metadata": {},
     "output_type": "execute_result"
    }
   ],
   "source": [
    "trans_cols = ['popularity', 'instrumentalness', 'speechiness', 'duration_mins', 'danceability', 'energy', 'loudness', 'tempo', 'valence', 'acousticness', 'key', 'liveness', 'voice_gender', 'mode', 'musician_category']\n",
    "fin_test = pd.DataFrame(trans_test, columns=trans_cols)\n",
    "fin_test.sample(7)\n",
    "\n",
    "fin_missing_cols = fin_test.columns[fin_test.isnull().any()].to_list()\n",
    "fin_missing_cols_count = fin_test[fin_missing_cols].isnull().sum()\n",
    "print('Missing values: ')\n",
    "fin_missing_cols_count"
   ]
  },
  {
   "cell_type": "markdown",
   "id": "4c302090",
   "metadata": {},
   "source": [
    "### Vectorizing test set"
   ]
  },
  {
   "cell_type": "code",
   "execution_count": 61,
   "id": "eb76be8d",
   "metadata": {},
   "outputs": [],
   "source": [
    "test_dict = fin_test.to_dict(orient= 'records')\n",
    "test_dv = dv.transform(test_dict)\n",
    "dtest = xgb.DMatrix(test_dv)"
   ]
  },
  {
   "cell_type": "markdown",
   "id": "5d8328fc",
   "metadata": {},
   "source": [
    "### Predicting using model"
   ]
  },
  {
   "cell_type": "code",
   "execution_count": 79,
   "id": "096044e1",
   "metadata": {},
   "outputs": [],
   "source": [
    "test_pred = fin_xgb.predict(dtest)\n",
    "test_pred"
   ]
  },
  {
   "cell_type": "code",
   "execution_count": 81,
   "id": "b74e3151",
   "metadata": {},
   "outputs": [],
   "source": [
    "fin_pred = np.argmax(test_pred, axis= 1)\n",
    "fin_pred"
   ]
  },
  {
   "cell_type": "code",
   "execution_count": 84,
   "id": "59ac0cba",
   "metadata": {
    "scrolled": true
   },
   "outputs": [],
   "source": [
    "# Obtain prediction\n",
    "test_pred = lb.inverse_transform(fin_pred)"
   ]
  },
  {
   "cell_type": "markdown",
   "id": "ae7567bb",
   "metadata": {},
   "source": [
    "### Extracting for submission"
   ]
  },
  {
   "cell_type": "code",
   "execution_count": 90,
   "id": "5f146f96",
   "metadata": {},
   "outputs": [],
   "source": [
    "def get_sub(arr, outfile= 'sub.csv'):\n",
    "    \"\"\"\n",
    "    Convert predicted output to a dataframe and extract to local\n",
    "    \"\"\"\n",
    "    out_df = pd.DataFrame({'instanceid': test['instance_id'], 'music_genre': test_pred})\n",
    "    out_df.to_csv('./subs/'+outfile, index= False)\n",
    "    return out_df"
   ]
  },
  {
   "cell_type": "code",
   "execution_count": 91,
   "id": "75ed9dee",
   "metadata": {},
   "outputs": [
    {
     "data": {
      "text/html": [
       "<div>\n",
       "<style scoped>\n",
       "    .dataframe tbody tr th:only-of-type {\n",
       "        vertical-align: middle;\n",
       "    }\n",
       "\n",
       "    .dataframe tbody tr th {\n",
       "        vertical-align: top;\n",
       "    }\n",
       "\n",
       "    .dataframe thead th {\n",
       "        text-align: right;\n",
       "    }\n",
       "</style>\n",
       "<table border=\"1\" class=\"dataframe\">\n",
       "  <thead>\n",
       "    <tr style=\"text-align: right;\">\n",
       "      <th></th>\n",
       "      <th>instanceid</th>\n",
       "      <th>music_genre</th>\n",
       "    </tr>\n",
       "  </thead>\n",
       "  <tbody>\n",
       "    <tr>\n",
       "      <th>0</th>\n",
       "      <td>MSC_70753.0</td>\n",
       "      <td>Classical</td>\n",
       "    </tr>\n",
       "    <tr>\n",
       "      <th>1</th>\n",
       "      <td>MSC_24064.0</td>\n",
       "      <td>Rock</td>\n",
       "    </tr>\n",
       "    <tr>\n",
       "      <th>2</th>\n",
       "      <td>MSC_22731.0</td>\n",
       "      <td>Rock</td>\n",
       "    </tr>\n",
       "    <tr>\n",
       "      <th>3</th>\n",
       "      <td>MSC_32095.0</td>\n",
       "      <td>Rock</td>\n",
       "    </tr>\n",
       "    <tr>\n",
       "      <th>4</th>\n",
       "      <td>MSC_24198.0</td>\n",
       "      <td>Jazz</td>\n",
       "    </tr>\n",
       "    <tr>\n",
       "      <th>...</th>\n",
       "      <td>...</td>\n",
       "      <td>...</td>\n",
       "    </tr>\n",
       "    <tr>\n",
       "      <th>3916</th>\n",
       "      <td>MSC_80955.0</td>\n",
       "      <td>Classical</td>\n",
       "    </tr>\n",
       "    <tr>\n",
       "      <th>3917</th>\n",
       "      <td>MSC_72767.0</td>\n",
       "      <td>Rock</td>\n",
       "    </tr>\n",
       "    <tr>\n",
       "      <th>3918</th>\n",
       "      <td>MSC_40192.0</td>\n",
       "      <td>Classical</td>\n",
       "    </tr>\n",
       "    <tr>\n",
       "      <th>3919</th>\n",
       "      <td>MSC_56067.0</td>\n",
       "      <td>Country</td>\n",
       "    </tr>\n",
       "    <tr>\n",
       "      <th>3920</th>\n",
       "      <td>MSC_90169.0</td>\n",
       "      <td>Electronic</td>\n",
       "    </tr>\n",
       "  </tbody>\n",
       "</table>\n",
       "<p>3921 rows × 2 columns</p>\n",
       "</div>"
      ],
      "text/plain": [
       "       instanceid music_genre\n",
       "0     MSC_70753.0   Classical\n",
       "1     MSC_24064.0        Rock\n",
       "2     MSC_22731.0        Rock\n",
       "3     MSC_32095.0        Rock\n",
       "4     MSC_24198.0        Jazz\n",
       "...           ...         ...\n",
       "3916  MSC_80955.0   Classical\n",
       "3917  MSC_72767.0        Rock\n",
       "3918  MSC_40192.0   Classical\n",
       "3919  MSC_56067.0     Country\n",
       "3920  MSC_90169.0  Electronic\n",
       "\n",
       "[3921 rows x 2 columns]"
      ]
     },
     "execution_count": 91,
     "metadata": {},
     "output_type": "execute_result"
    }
   ],
   "source": [
    "sub2 = get_sub(test_pred, 'sub2.csv')\n",
    "sub2"
   ]
  },
  {
   "cell_type": "markdown",
   "id": "d35caf64",
   "metadata": {},
   "source": [
    "## References\n",
    "- [Replace invalid values](https://stackoverflow.com/questions/17097236/replace-invalid-values-with-none-in-pandas-dataframe)\n",
    "- [Replace values randomly](https://stackoverflow.com/questions/36413314/filling-missing-data-by-random-choosing-from-non-missing-values-in-pandas-datafr)\n",
    "- [Pandas: filling missing values by mean in each group](https://stackoverflow.com/questions/19966018/pandas-filling-missing-values-by-mean-in-each-group)"
   ]
  }
 ],
 "metadata": {
  "kernelspec": {
   "display_name": "Python [conda env:ml] *",
   "language": "python",
   "name": "conda-env-ml-py"
  },
  "language_info": {
   "codemirror_mode": {
    "name": "ipython",
    "version": 3
   },
   "file_extension": ".py",
   "mimetype": "text/x-python",
   "name": "python",
   "nbconvert_exporter": "python",
   "pygments_lexer": "ipython3",
   "version": "3.8.11"
  }
 },
 "nbformat": 4,
 "nbformat_minor": 5
}
